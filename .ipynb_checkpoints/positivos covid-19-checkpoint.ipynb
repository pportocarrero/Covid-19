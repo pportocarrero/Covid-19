{
 "cells": [
  {
   "cell_type": "code",
   "execution_count": 1,
   "id": "9138a98c",
   "metadata": {},
   "outputs": [
    {
     "name": "stdout",
     "output_type": "stream",
     "text": [
      "Current working directory: C:\\Users\\pport\\OneDrive\\Projects\\Covid-19\n"
     ]
    }
   ],
   "source": [
    "# LIBRARIES\n",
    "\n",
    "import pandas as pd\n",
    "import os\n",
    "import requests\n",
    "import csv\n",
    "from datetime import datetime\n",
    "import matplotlib.pyplot as plt"
   ]
  },
  {
   "cell_type": "code",
   "execution_count": null,
   "id": "90b299c2",
   "metadata": {},
   "outputs": [],
   "source": [
    "# CONFIG\n",
    "\n",
    "os.chdir('C:/Users/pport/OneDrive/Projects/Covid-19/') # For Win\n",
    "\n",
    "#os.chdir('/Users/pportocarrero/OneDrive/Projects/Covid-19/') # For MacOS\n",
    "\n",
    "print(\"Current working directory: {0}\".format(os.getcwd()))"
   ]
  },
  {
   "cell_type": "code",
   "execution_count": null,
   "id": "adbc9bc6",
   "metadata": {},
   "outputs": [],
   "source": [
    "# GET NEW DATA\n",
    "\n",
    "req = requests.get('https://cloud.minsa.gob.pe/s/AC2adyLkHCKjmfm/download')\n",
    "url_content = req.content\n",
    "csv_file = open('positivos_covid.csv', 'wb')\n",
    "csv_file.write(url_content)\n",
    "csv_file.close()\n",
    "\n",
    "# DATA CONFIG\n",
    "\n",
    "data = pd.read_csv('positivos_covid.csv', delimiter = ';')\n",
    "\n",
    "data['FECHA_RESULTADO'] = data['FECHA_RESULTADO'].astype(float, errors = 'raise')\n",
    "\n",
    "nan_values = data['FECHA_RESULTADO'].isna().sum()\n",
    "\n",
    "data['FECHA_RESULTADO'] = data['FECHA_RESULTADO'].fillna('20211231')\n",
    "\n",
    "data['FECHA_RESULTADO'] = data['FECHA_RESULTADO'].astype(float, errors = 'raise')\n",
    "\n",
    "data['FECHA_RESULTADO'] = data['FECHA_RESULTADO'].map('{:.0f}'.format)\n",
    "\n",
    "data['FECHA_RESULTADO'] = data['FECHA_RESULTADO'] * 1\n",
    "\n",
    "# WRANGLING\n",
    "\n",
    "data['YEAR'] = data['FECHA_RESULTADO'].str[2:4]\n",
    "\n",
    "data['MONTH'] = data['FECHA_RESULTADO'].str[4:6]\n",
    "\n",
    "data['DAY'] = data['FECHA_RESULTADO'].str[6:8]\n",
    "\n",
    "data['DATE'] = data['DAY'] + '/' + data['MONTH'] + '/' + data['YEAR']\n",
    "\n",
    "data['DATE'] = pd.to_datetime(data['DATE'])\n",
    "\n",
    "data['DATE'] = pd.to_datetime(data['DATE']).dt.strftime('%d/%m/%y')\n",
    "\n",
    "data[\"DATE\"] = data[\"DATE\"].astype(\"datetime64\")"
   ]
  },
  {
   "cell_type": "code",
   "execution_count": null,
   "id": "82e7754d",
   "metadata": {},
   "outputs": [],
   "source": [
    "# CREATING AGGREGATES\n",
    "\n",
    "aggregate = data.groupby(['DATE']).size()\n",
    "\n",
    "last_value = aggregate.iloc[-1]\n",
    "\n",
    "data['time'] = pd.to_datetime(data['DATE'])\n",
    "date = data['time'].dt.date\n",
    "date = date.drop_duplicates()\n",
    "date = date.astype(\"datetime64\")\n",
    "date = date.sort_values(ascending=True)\n",
    "\n",
    "df_aggregate = pd.DataFrame({'casos': aggregate, 'fecha': pd.date_range('03/06/20', periods = len(aggregate))})\n",
    "\n",
    "df_aggregate.to_excel('C:/Users/pport/OneDrive/Projects/Covid-19/casos_positivos.xlsx')"
   ]
  },
  {
   "cell_type": "code",
   "execution_count": null,
   "id": "58013eaa",
   "metadata": {},
   "outputs": [],
   "source": [
    "# AMAZONAS\n",
    "\n",
    "casos_ama = data[data['DEPARTAMENTO'] == 'AMAZONAS']\n",
    "\n",
    "aggregate_ama = casos_ama.groupby(['DATE']).size()\n",
    "\n",
    "df_aggregate_ama = pd.DataFrame({'casos': aggregate_ama})\n",
    "\n",
    "df_aggregate_ama.to_excel('C:/Users/pport/OneDrive/Projects/Covid-19/regiones/casos_amazonas.xlsx')"
   ]
  },
  {
   "cell_type": "code",
   "execution_count": null,
   "id": "0f1cdc8b",
   "metadata": {},
   "outputs": [],
   "source": [
    "# ANCASH\n",
    "\n",
    "casos_anc = data[data['DEPARTAMENTO'] == 'ANCASH']\n",
    "\n",
    "aggregate_anc = casos_anc.groupby(['DATE']).size()\n",
    "\n",
    "df_aggregate_anc = pd.DataFrame({'casos': aggregate_anc})\n",
    "\n",
    "df_aggregate_anc.to_excel('C:/Users/pport/OneDrive/Projects/Covid-19/regiones/casos_ancash.xlsx')"
   ]
  },
  {
   "cell_type": "code",
   "execution_count": null,
   "id": "cd5b97b7",
   "metadata": {},
   "outputs": [],
   "source": [
    "# APURIMAC\n",
    "\n",
    "casos_apu = data[data['DEPARTAMENTO'] == 'APURIMAC']\n",
    "\n",
    "aggregate_apu = casos_apu.groupby(['DATE']).size()\n",
    "\n",
    "df_aggregate_apu = pd.DataFrame({'casos': aggregate_apu})\n",
    "\n",
    "df_aggregate_apu.to_excel('C:/Users/pport/OneDrive/Projects/Covid-19/regiones/casos_apurimac.xlsx')"
   ]
  },
  {
   "cell_type": "code",
   "execution_count": null,
   "id": "460486ae",
   "metadata": {},
   "outputs": [],
   "source": [
    "# AREQUIPA\n",
    "\n",
    "casos_are = data[data['DEPARTAMENTO'] == 'AREQUIPA']\n",
    "\n",
    "aggregate_are = casos_are.groupby(['DATE']).size()\n",
    "\n",
    "df_aggregate_are = pd.DataFrame({'casos': aggregate_are})\n",
    "\n",
    "df_aggregate_are.to_excel('C:/Users/pport/OneDrive/Projects/Covid-19/regiones/casos_arequipa.xlsx')"
   ]
  },
  {
   "cell_type": "code",
   "execution_count": null,
   "id": "a3e358e1",
   "metadata": {},
   "outputs": [],
   "source": [
    "# AYACUCHO\n",
    "\n",
    "casos_aya = data[data['DEPARTAMENTO'] == 'AYACUCHO']\n",
    "\n",
    "aggregate_aya = casos_aya.groupby(['DATE']).size()\n",
    "\n",
    "df_aggregate_aya = pd.DataFrame({'casos': aggregate_aya})\n",
    "\n",
    "df_aggregate_aya.to_excel('C:/Users/pport/OneDrive/Projects/Covid-19/regiones/casos_ayacucho.xlsx')"
   ]
  },
  {
   "cell_type": "code",
   "execution_count": null,
   "id": "41158111",
   "metadata": {},
   "outputs": [],
   "source": [
    "# CAJAMARCA\n",
    "\n",
    "casos_caj = data[data['DEPARTAMENTO'] == 'CAJAMARCA']\n",
    "\n",
    "aggregate_caj = casos_caj.groupby(['DATE']).size()\n",
    "\n",
    "df_aggregate_caj = pd.DataFrame({'casos': aggregate_caj})\n",
    "\n",
    "df_aggregate_caj.to_excel('C:/Users/pport/OneDrive/Projects/Covid-19/regiones/casos_cajamarca.xlsx')"
   ]
  },
  {
   "cell_type": "code",
   "execution_count": null,
   "id": "638719da",
   "metadata": {},
   "outputs": [],
   "source": [
    "# CALLAO\n",
    "\n",
    "casos_cal = data[data['DEPARTAMENTO'] == 'CALLAO']\n",
    "\n",
    "aggregate_cal = casos_cal.groupby(['DATE']).size()\n",
    "\n",
    "df_aggregate_cal = pd.DataFrame({'casos': aggregate_cal})\n",
    "\n",
    "df_aggregate_cal.to_excel('C:/Users/pport/OneDrive/Projects/Covid-19/regiones/casos_callao.xlsx')"
   ]
  },
  {
   "cell_type": "code",
   "execution_count": null,
   "id": "8cd26118",
   "metadata": {},
   "outputs": [],
   "source": [
    "# CUSCO\n",
    "\n",
    "casos_cus= data[data['DEPARTAMENTO'] == 'CUSCO']\n",
    "\n",
    "aggregate_cus = casos_cus.groupby(['DATE']).size()\n",
    "\n",
    "df_aggregate_cus = pd.DataFrame({'casos': aggregate_cus})\n",
    "\n",
    "df_aggregate_cus.to_excel('C:/Users/pport/OneDrive/Projects/Covid-19/regiones/casos_cusco.xlsx')"
   ]
  },
  {
   "cell_type": "code",
   "execution_count": null,
   "id": "28e9b39c",
   "metadata": {},
   "outputs": [],
   "source": [
    "# HUANCAVELICA\n",
    "\n",
    "casos_hlv = data[data['DEPARTAMENTO'] == 'HUANCAVELICA']\n",
    "\n",
    "aggregate_hlv = casos_hlv.groupby(['DATE']).size()\n",
    "\n",
    "df_aggregate_hlv = pd.DataFrame({'casos': aggregate_hlv})\n",
    "\n",
    "df_aggregate_hlv.to_excel('C:/Users/pport/OneDrive/Projects/Covid-19/regiones/casos_huancavelica.xlsx')"
   ]
  },
  {
   "cell_type": "code",
   "execution_count": null,
   "id": "9f2e731b",
   "metadata": {},
   "outputs": [],
   "source": [
    "# HUANUCO\n",
    "\n",
    "casos_hua = data[data['DEPARTAMENTO'] == 'HUANUCO']\n",
    "\n",
    "aggregate_hua = casos_hua.groupby(['DATE']).size()\n",
    "\n",
    "df_aggregate_hua = pd.DataFrame({'casos': aggregate_hua})\n",
    "\n",
    "df_aggregate_hua.to_excel('C:/Users/pport/OneDrive/Projects/Covid-19/regiones/casos_huanuco.xlsx')"
   ]
  },
  {
   "cell_type": "code",
   "execution_count": null,
   "id": "2f9ca8a9",
   "metadata": {},
   "outputs": [],
   "source": [
    "# ICA\n",
    "\n",
    "casos_ica = data[data['DEPARTAMENTO'] == 'ICA']\n",
    "\n",
    "aggregate_ica = casos_ica.groupby(['DATE']).size()\n",
    "\n",
    "df_aggregate_ica = pd.DataFrame({'casos': aggregate_ica})\n",
    "\n",
    "df_aggregate_ica.to_excel('C:/Users/pport/OneDrive/Projects/Covid-19/regiones/casos_ica.xlsx')"
   ]
  },
  {
   "cell_type": "code",
   "execution_count": null,
   "id": "0d625239",
   "metadata": {},
   "outputs": [],
   "source": [
    "# JUNIN\n",
    "\n",
    "casos_jun = data[data['DEPARTAMENTO'] == 'JUNIN']\n",
    "\n",
    "aggregate_jun = casos_jun.groupby(['DATE']).size()\n",
    "\n",
    "df_aggregate_jun = pd.DataFrame({'casos': aggregate_jun})\n",
    "\n",
    "df_aggregate_jun.to_excel('C:/Users/pport/OneDrive/Projects/Covid-19/regiones/casos_junin.xlsx')"
   ]
  }
 ],
 "metadata": {
  "kernelspec": {
   "display_name": "Python 3 (ipykernel)",
   "language": "python",
   "name": "python3"
  },
  "language_info": {
   "codemirror_mode": {
    "name": "ipython",
    "version": 3
   },
   "file_extension": ".py",
   "mimetype": "text/x-python",
   "name": "python",
   "nbconvert_exporter": "python",
   "pygments_lexer": "ipython3",
   "version": "3.9.7"
  }
 },
 "nbformat": 4,
 "nbformat_minor": 5
}
