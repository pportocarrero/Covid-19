{
 "cells": [
  {
   "cell_type": "code",
   "execution_count": null,
   "metadata": {
    "collapsed": true
   },
   "outputs": [],
   "source": [
    "# LIBRARIES\n",
    "\n",
    "import pandas as pd\n",
    "import os\n",
    "import requests"
   ]
  },
  {
   "cell_type": "code",
   "execution_count": null,
   "outputs": [],
   "source": [
    "# CONFIG\n",
    "os.chdir('/Users/pportocarrero/OneDrive/Projects/Covid-19')\n",
    "\n",
    "print('Current working directory: {0}'.format(os.getcwd()))"
   ],
   "metadata": {
    "collapsed": false,
    "pycharm": {
     "name": "#%%\n"
    }
   }
  },
  {
   "cell_type": "code",
   "execution_count": null,
   "outputs": [],
   "source": [
    "# GET NEW DATA\n",
    "\n",
    "req = requests.get('https://datos.ins.gob.pe/dataset/1816a9a4-5ef9-437a-ac46-248e3b6a7ef6/resource/424d9e7a-c2f7-44f4-9a99-115b0b932918/download/pmgenoma_04feb2022.csv')\n",
    "url_content = req.content\n",
    "csv_file = open('lineages.csv', 'wb')\n",
    "csv_file.write(url_content)\n",
    "csv_file.close()"
   ],
   "metadata": {
    "collapsed": false,
    "pycharm": {
     "name": "#%%\n"
    }
   }
  },
  {
   "cell_type": "code",
   "execution_count": null,
   "outputs": [],
   "source": [
    "# DATA WRANGLING\n",
    "\n",
    "data = pd.read_csv('lineages.csv', delimiter = '|')\n",
    "\n",
    "data['FECHA_MUESTRA'] = data['FECHA_MUESTRA'].astype(float, errors = 'raise')\n",
    "\n",
    "nan_values = data['FECHA_MUESTRA'].isna().sum()\n",
    "\n"
   ],
   "metadata": {
    "collapsed": false,
    "pycharm": {
     "name": "#%%\n"
    }
   }
  }
 ],
 "metadata": {
  "kernelspec": {
   "display_name": "Python 3",
   "language": "python",
   "name": "python3"
  },
  "language_info": {
   "codemirror_mode": {
    "name": "ipython",
    "version": 2
   },
   "file_extension": ".py",
   "mimetype": "text/x-python",
   "name": "python",
   "nbconvert_exporter": "python",
   "pygments_lexer": "ipython2",
   "version": "2.7.6"
  }
 },
 "nbformat": 4,
 "nbformat_minor": 0
}