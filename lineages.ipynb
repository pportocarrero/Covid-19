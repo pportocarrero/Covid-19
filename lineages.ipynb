{
 "cells": [
  {
   "cell_type": "code",
   "execution_count": 6,
   "metadata": {
    "collapsed": true
   },
   "outputs": [],
   "source": [
    "# LIBRARIES\n",
    "\n",
    "import pandas as pd\n",
    "import os\n",
    "import requests"
   ]
  },
  {
   "cell_type": "code",
   "execution_count": 7,
   "outputs": [
    {
     "name": "stdout",
     "output_type": "stream",
     "text": [
      "Current working directory: /Users/pportocarrero/Library/CloudStorage/OneDrive-Personal/Projects/Covid-19\n"
     ]
    }
   ],
   "source": [
    "# CONFIG\n",
    "os.chdir('/Users/pportocarrero/OneDrive/Projects/Covid-19')\n",
    "\n",
    "print('Current working directory: {0}'.format(os.getcwd()))"
   ],
   "metadata": {
    "collapsed": false,
    "pycharm": {
     "name": "#%%\n"
    }
   }
  },
  {
   "cell_type": "code",
   "execution_count": 9,
   "outputs": [
    {
     "name": "stderr",
     "output_type": "stream",
     "text": [
      "/Users/pportocarrero/opt/anaconda3/lib/python3.9/site-packages/urllib3/connectionpool.py:1013: InsecureRequestWarning: Unverified HTTPS request is being made to host 'datos.ins.gob.pe'. Adding certificate verification is strongly advised. See: https://urllib3.readthedocs.io/en/1.26.x/advanced-usage.html#ssl-warnings\n",
      "  warnings.warn(\n"
     ]
    }
   ],
   "source": [
    "# GET NEW DATA\n",
    "\n",
    "req = requests.get('https://datos.ins.gob.pe/dataset/1816a9a4-5ef9-437a-ac46-248e3b6a7ef6/resource/424d9e7a-c2f7-44f4-9a99-115b0b932918/download/pmgenoma_04feb2022.csv', verify = False)\n",
    "url_content = req.content\n",
    "csv_file = open('lineages.csv', 'wb')\n",
    "csv_file.write(url_content)\n",
    "csv_file.close()"
   ],
   "metadata": {
    "collapsed": false,
    "pycharm": {
     "name": "#%%\n"
    }
   }
  },
  {
   "cell_type": "code",
   "execution_count": 17,
   "outputs": [],
   "source": [
    "# DATA WRANGLING\n",
    "\n",
    "data = pd.read_csv('lineages.csv', delimiter = '|')\n",
    "\n",
    "data['FECHA_MUESTRA'] = data['FECHA_MUESTRA'].astype(float, errors = 'raise')\n",
    "\n",
    "nan_values = data['FECHA_MUESTRA'].isna().sum()\n",
    "\n",
    "data['FECHA_MUESTRA'] = data['FECHA_MUESTRA'].fillna('20211231')\n",
    "\n",
    "data['FECHA_MUESTRA'] = data['FECHA_MUESTRA'].astype(float, errors = 'raise')\n",
    "\n",
    "data['FECHA_MUESTRA'] = data['FECHA_MUESTRA'].map('{:.0f}'.format)\n",
    "\n",
    "data['FECHA_MUESTRA'] = data['FECHA_MUESTRA'] * 1\n",
    "\n",
    "# SOME MORE WORK ON THE DATA\n",
    "\n",
    "data['YEAR'] = data['FECHA_MUESTRA'].str[2:4]\n",
    "\n",
    "data['MONTH'] = data['FECHA_MUESTRA'].str[4:6]\n",
    "\n",
    "data['DAY'] = data['FECHA_MUESTRA'].str[6:8]\n",
    "\n",
    "data['DATE'] = data['DAY'] + '/' + data['MONTH'] + '/' + data['YEAR']\n",
    "\n",
    "data['DATE'] = pd.to_datetime(data['DATE'])\n",
    "\n",
    "data['DATE'] = pd.to_datetime(data['DATE']).dt.strftime('%d/%m/%y')\n",
    "\n",
    "data[\"DATE\"] = data[\"DATE\"].astype(\"datetime64\")"
   ],
   "metadata": {
    "collapsed": false,
    "pycharm": {
     "name": "#%%\n"
    }
   }
  },
  {
   "cell_type": "code",
   "execution_count": 11,
   "outputs": [],
   "source": [
    "# AGGREGATES\n",
    "\n",
    "aggregate_lineages = data.groupby(['RESULTADO']).size()\n",
    "\n",
    "data['time'] = pd.to_datetime(data['DATE'])\n",
    "date = data['time'].dt.date\n",
    "date = date.drop_duplicates()\n",
    "date = date.astype(\"datetime64\")\n",
    "date = date.sort_values(ascending=True)\n",
    "\n",
    "df_aggregate = pd.DataFrame({'casos': aggregate_lineages, 'fecha': pd.date_range('10/02/2020', periods = len(aggregate_lineages))})\n",
    "\n",
    "df_aggregate.to_excel('linajes.xlsx')"
   ],
   "metadata": {
    "collapsed": false,
    "pycharm": {
     "name": "#%%\n"
    }
   }
  },
  {
   "cell_type": "code",
   "execution_count": 13,
   "outputs": [],
   "source": [
    "df_agg = data.groupby(['DATE','RESULTADO']).size()"
   ],
   "metadata": {
    "collapsed": false,
    "pycharm": {
     "name": "#%%\n"
    }
   }
  }
 ],
 "metadata": {
  "kernelspec": {
   "display_name": "Python 3",
   "language": "python",
   "name": "python3"
  },
  "language_info": {
   "codemirror_mode": {
    "name": "ipython",
    "version": 2
   },
   "file_extension": ".py",
   "mimetype": "text/x-python",
   "name": "python",
   "nbconvert_exporter": "python",
   "pygments_lexer": "ipython2",
   "version": "2.7.6"
  }
 },
 "nbformat": 4,
 "nbformat_minor": 0
}