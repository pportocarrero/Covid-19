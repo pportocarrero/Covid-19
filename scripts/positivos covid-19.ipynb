{
 "cells": [
  {
   "cell_type": "code",
   "execution_count": 38,
   "id": "732b717f",
   "metadata": {
    "collapsed": false,
    "jupyter": {
     "outputs_hidden": false
    }
   },
   "outputs": [
    {
     "name": "stdout",
     "output_type": "stream",
     "text": [
      "The autoreload extension is already loaded. To reload it, use:\n",
      "  %reload_ext autoreload\n"
     ]
    }
   ],
   "source": [
    "# LIBRARIES\n",
    "\n",
    "%load_ext autoreload\n",
    "%autoreload 2\n",
    "%reload_ext autoreload\n",
    "import covid_functions as covid"
   ]
  },
  {
   "cell_type": "code",
   "execution_count": 39,
   "id": "bc2febea",
   "metadata": {
    "collapsed": false,
    "jupyter": {
     "outputs_hidden": false
    }
   },
   "outputs": [],
   "source": [
    "# CONFIG\n",
    "\n",
    "covid.working_dir('Covid-19')"
   ]
  },
  {
   "cell_type": "code",
   "execution_count": 40,
   "id": "b385c452",
   "metadata": {
    "collapsed": false,
    "jupyter": {
     "outputs_hidden": false
    }
   },
   "outputs": [],
   "source": [
    "covid.positivos('casos_positivos')"
   ]
  },
  {
   "cell_type": "code",
   "execution_count": 41,
   "id": "0e46c8f7",
   "metadata": {
    "collapsed": false,
    "jupyter": {
     "outputs_hidden": false
    }
   },
   "outputs": [],
   "source": [
    "covid.positivos_region('amazonas')"
   ]
  },
  {
   "cell_type": "code",
   "execution_count": 42,
   "id": "7a876a80",
   "metadata": {
    "collapsed": false,
    "jupyter": {
     "outputs_hidden": false
    }
   },
   "outputs": [],
   "source": [
    "covid.positivos_region('ancash')"
   ]
  },
  {
   "cell_type": "code",
   "execution_count": 43,
   "id": "fbb01118",
   "metadata": {
    "collapsed": false,
    "jupyter": {
     "outputs_hidden": false
    }
   },
   "outputs": [],
   "source": [
    "covid.positivos_region('apurimac')"
   ]
  },
  {
   "cell_type": "code",
   "execution_count": 44,
   "id": "6dc250cf",
   "metadata": {
    "collapsed": false,
    "jupyter": {
     "outputs_hidden": false
    }
   },
   "outputs": [],
   "source": [
    "covid.positivos_region('arequipa')"
   ]
  },
  {
   "cell_type": "code",
   "execution_count": 45,
   "id": "202b61a8",
   "metadata": {
    "collapsed": false,
    "jupyter": {
     "outputs_hidden": false
    }
   },
   "outputs": [],
   "source": [
    "covid.positivos_region('ayacucho')"
   ]
  },
  {
   "cell_type": "code",
   "execution_count": 46,
   "id": "154f4851",
   "metadata": {
    "collapsed": false,
    "jupyter": {
     "outputs_hidden": false
    }
   },
   "outputs": [],
   "source": [
    "covid.positivos_region('cajamarca')"
   ]
  },
  {
   "cell_type": "code",
   "execution_count": 47,
   "id": "b0594116",
   "metadata": {
    "collapsed": false,
    "jupyter": {
     "outputs_hidden": false
    }
   },
   "outputs": [],
   "source": [
    "covid.positivos_region('callao')"
   ]
  },
  {
   "cell_type": "code",
   "execution_count": 48,
   "id": "0a54e14a",
   "metadata": {
    "collapsed": false,
    "jupyter": {
     "outputs_hidden": false
    }
   },
   "outputs": [],
   "source": [
    "covid.positivos_region('cusco')"
   ]
  },
  {
   "cell_type": "code",
   "execution_count": 49,
   "id": "f3cd1e94",
   "metadata": {
    "collapsed": false,
    "jupyter": {
     "outputs_hidden": false
    }
   },
   "outputs": [],
   "source": [
    "covid.positivos_region('huancavelica')"
   ]
  },
  {
   "cell_type": "code",
   "execution_count": 50,
   "id": "c50912fd",
   "metadata": {
    "collapsed": false,
    "jupyter": {
     "outputs_hidden": false
    }
   },
   "outputs": [],
   "source": [
    "covid.positivos_region('huanuco')"
   ]
  },
  {
   "cell_type": "code",
   "execution_count": 51,
   "id": "12a633ce",
   "metadata": {
    "collapsed": false,
    "jupyter": {
     "outputs_hidden": false
    }
   },
   "outputs": [],
   "source": [
    "covid.positivos_region('ica')"
   ]
  },
  {
   "cell_type": "code",
   "execution_count": 52,
   "id": "382d7434",
   "metadata": {
    "collapsed": false,
    "jupyter": {
     "outputs_hidden": false
    }
   },
   "outputs": [],
   "source": [
    "covid.positivos_region('junin')"
   ]
  },
  {
   "cell_type": "code",
   "execution_count": 53,
   "id": "81d382a6",
   "metadata": {
    "collapsed": false,
    "jupyter": {
     "outputs_hidden": false
    }
   },
   "outputs": [],
   "source": [
    "covid.positivos_region('la libertad')"
   ]
  },
  {
   "cell_type": "code",
   "execution_count": 54,
   "id": "75777245",
   "metadata": {
    "collapsed": false,
    "jupyter": {
     "outputs_hidden": false
    }
   },
   "outputs": [],
   "source": [
    "covid.positivos_region('lambayeque')"
   ]
  },
  {
   "cell_type": "code",
   "execution_count": 55,
   "id": "09fca234",
   "metadata": {
    "collapsed": false,
    "jupyter": {
     "outputs_hidden": false
    }
   },
   "outputs": [],
   "source": [
    "covid.positivos_region('lima')"
   ]
  },
  {
   "cell_type": "code",
   "execution_count": 56,
   "id": "06c1ad91",
   "metadata": {
    "collapsed": false,
    "jupyter": {
     "outputs_hidden": false
    }
   },
   "outputs": [],
   "source": [
    "covid.positivos_region('loreto')"
   ]
  },
  {
   "cell_type": "code",
   "execution_count": 57,
   "id": "09e28312",
   "metadata": {
    "collapsed": false,
    "jupyter": {
     "outputs_hidden": false
    }
   },
   "outputs": [],
   "source": [
    "covid.positivos_region('madre de dios')"
   ]
  },
  {
   "cell_type": "code",
   "execution_count": 58,
   "id": "9e7d854c",
   "metadata": {
    "collapsed": false,
    "jupyter": {
     "outputs_hidden": false
    }
   },
   "outputs": [],
   "source": [
    "covid.positivos_region('moquegua')"
   ]
  },
  {
   "cell_type": "code",
   "execution_count": 59,
   "id": "d4496d59",
   "metadata": {
    "collapsed": false,
    "jupyter": {
     "outputs_hidden": false
    }
   },
   "outputs": [],
   "source": [
    "covid.positivos_region('pasco')"
   ]
  },
  {
   "cell_type": "code",
   "execution_count": 60,
   "id": "48b6e549",
   "metadata": {
    "collapsed": false,
    "jupyter": {
     "outputs_hidden": false
    }
   },
   "outputs": [],
   "source": [
    "covid.positivos_region('piura')"
   ]
  },
  {
   "cell_type": "code",
   "execution_count": 61,
   "id": "048e6ffe",
   "metadata": {
    "collapsed": false,
    "jupyter": {
     "outputs_hidden": false
    }
   },
   "outputs": [],
   "source": [
    "covid.positivos_region('puno')"
   ]
  },
  {
   "cell_type": "code",
   "execution_count": 62,
   "id": "99180f1d",
   "metadata": {
    "collapsed": false,
    "jupyter": {
     "outputs_hidden": false
    }
   },
   "outputs": [],
   "source": [
    "covid.positivos_region('san martin')"
   ]
  },
  {
   "cell_type": "code",
   "execution_count": 63,
   "id": "e8c7ee13",
   "metadata": {
    "collapsed": false,
    "jupyter": {
     "outputs_hidden": false
    }
   },
   "outputs": [],
   "source": [
    "covid.positivos_region('tacna')"
   ]
  },
  {
   "cell_type": "code",
   "execution_count": 64,
   "id": "075fc9a7",
   "metadata": {
    "collapsed": false,
    "jupyter": {
     "outputs_hidden": false
    }
   },
   "outputs": [],
   "source": [
    "covid.positivos_region('tumbes')"
   ]
  },
  {
   "cell_type": "code",
   "execution_count": 65,
   "id": "e648c3b1",
   "metadata": {
    "collapsed": false,
    "jupyter": {
     "outputs_hidden": false
    }
   },
   "outputs": [],
   "source": [
    "covid.positivos_region('ucayali')"
   ]
  }
 ],
 "metadata": {
  "kernelspec": {
   "display_name": "Python 3 (ipykernel)",
   "language": "python",
   "name": "python3"
  },
  "language_info": {
   "codemirror_mode": {
    "name": "ipython",
    "version": 3
   },
   "file_extension": ".py",
   "mimetype": "text/x-python",
   "name": "python",
   "nbconvert_exporter": "python",
   "pygments_lexer": "ipython3",
   "version": "3.9.12"
  },
  "vscode": {
   "interpreter": {
    "hash": "b16035391e6d15f42e961d15e8d80705044948f1497ed0c48969644a26688a27"
   }
  }
 },
 "nbformat": 4,
 "nbformat_minor": 5
}
