{
 "cells": [
  {
   "cell_type": "code",
   "execution_count": 29,
   "id": "732b717f",
   "metadata": {
    "collapsed": false,
    "jupyter": {
     "outputs_hidden": false
    },
    "ExecuteTime": {
     "start_time": "2023-04-14T14:24:48.565634Z",
     "end_time": "2023-04-14T14:24:48.683170Z"
    }
   },
   "outputs": [
    {
     "name": "stdout",
     "output_type": "stream",
     "text": [
      "The autoreload extension is already loaded. To reload it, use:\n",
      "  %reload_ext autoreload\n"
     ]
    }
   ],
   "source": [
    "# LIBRARIES\n",
    "\n",
    "%load_ext autoreload\n",
    "%autoreload 2\n",
    "%reload_ext autoreload\n",
    "import covid_functions as covid"
   ]
  },
  {
   "cell_type": "code",
   "execution_count": 30,
   "id": "bc2febea",
   "metadata": {
    "collapsed": false,
    "jupyter": {
     "outputs_hidden": false
    },
    "ExecuteTime": {
     "start_time": "2023-04-14T14:24:48.686170Z",
     "end_time": "2023-04-14T14:24:48.793427Z"
    }
   },
   "outputs": [],
   "source": [
    "# CONFIG\n",
    "\n",
    "covid.working_dir('Covid-19')"
   ]
  },
  {
   "cell_type": "code",
   "execution_count": 31,
   "id": "b385c452",
   "metadata": {
    "collapsed": false,
    "jupyter": {
     "outputs_hidden": false
    },
    "ExecuteTime": {
     "start_time": "2023-04-14T14:24:48.794430Z",
     "end_time": "2023-04-14T14:25:50.613455Z"
    }
   },
   "outputs": [],
   "source": [
    "covid.positivos('casos_positivos')"
   ]
  },
  {
   "cell_type": "code",
   "execution_count": 32,
   "id": "0e46c8f7",
   "metadata": {
    "collapsed": false,
    "jupyter": {
     "outputs_hidden": false
    },
    "ExecuteTime": {
     "start_time": "2023-04-14T14:25:50.614967Z",
     "end_time": "2023-04-14T14:26:23.841380Z"
    }
   },
   "outputs": [],
   "source": [
    "covid.positivos_region('amazonas')"
   ]
  },
  {
   "cell_type": "code",
   "execution_count": 33,
   "id": "7a876a80",
   "metadata": {
    "collapsed": false,
    "jupyter": {
     "outputs_hidden": false
    },
    "ExecuteTime": {
     "start_time": "2023-04-14T14:26:23.844380Z",
     "end_time": "2023-04-14T14:26:56.179144Z"
    }
   },
   "outputs": [],
   "source": [
    "covid.positivos_region('ancash')"
   ]
  },
  {
   "cell_type": "code",
   "execution_count": 34,
   "id": "fbb01118",
   "metadata": {
    "collapsed": false,
    "jupyter": {
     "outputs_hidden": false
    },
    "ExecuteTime": {
     "start_time": "2023-04-14T14:26:56.179144Z",
     "end_time": "2023-04-14T14:27:29.835437Z"
    }
   },
   "outputs": [],
   "source": [
    "covid.positivos_region('apurimac')"
   ]
  },
  {
   "cell_type": "code",
   "execution_count": 35,
   "id": "6dc250cf",
   "metadata": {
    "collapsed": false,
    "jupyter": {
     "outputs_hidden": false
    },
    "ExecuteTime": {
     "start_time": "2023-04-14T14:27:29.837437Z",
     "end_time": "2023-04-14T14:28:03.868189Z"
    }
   },
   "outputs": [],
   "source": [
    "covid.positivos_region('arequipa')"
   ]
  },
  {
   "cell_type": "code",
   "execution_count": 36,
   "id": "202b61a8",
   "metadata": {
    "collapsed": false,
    "jupyter": {
     "outputs_hidden": false
    },
    "ExecuteTime": {
     "start_time": "2023-04-14T14:28:03.868189Z",
     "end_time": "2023-04-14T14:28:37.935301Z"
    }
   },
   "outputs": [],
   "source": [
    "covid.positivos_region('ayacucho')"
   ]
  },
  {
   "cell_type": "code",
   "execution_count": 37,
   "id": "154f4851",
   "metadata": {
    "collapsed": false,
    "jupyter": {
     "outputs_hidden": false
    },
    "ExecuteTime": {
     "start_time": "2023-04-14T14:28:37.935301Z",
     "end_time": "2023-04-14T14:29:17.986747Z"
    }
   },
   "outputs": [],
   "source": [
    "covid.positivos_region('cajamarca')"
   ]
  },
  {
   "cell_type": "code",
   "execution_count": 38,
   "id": "b0594116",
   "metadata": {
    "collapsed": false,
    "jupyter": {
     "outputs_hidden": false
    },
    "ExecuteTime": {
     "start_time": "2023-04-14T14:29:17.986747Z",
     "end_time": "2023-04-14T14:29:52.359955Z"
    }
   },
   "outputs": [],
   "source": [
    "covid.positivos_region('callao')"
   ]
  },
  {
   "cell_type": "code",
   "execution_count": 39,
   "id": "0a54e14a",
   "metadata": {
    "collapsed": false,
    "jupyter": {
     "outputs_hidden": false
    },
    "ExecuteTime": {
     "start_time": "2023-04-14T14:29:52.359955Z",
     "end_time": "2023-04-14T14:30:27.241192Z"
    }
   },
   "outputs": [],
   "source": [
    "covid.positivos_region('cusco')"
   ]
  },
  {
   "cell_type": "code",
   "execution_count": 40,
   "id": "f3cd1e94",
   "metadata": {
    "collapsed": false,
    "jupyter": {
     "outputs_hidden": false
    },
    "ExecuteTime": {
     "start_time": "2023-04-14T14:30:27.241192Z",
     "end_time": "2023-04-14T14:31:06.611887Z"
    }
   },
   "outputs": [],
   "source": [
    "covid.positivos_region('huancavelica')"
   ]
  },
  {
   "cell_type": "code",
   "execution_count": 41,
   "id": "c50912fd",
   "metadata": {
    "collapsed": false,
    "jupyter": {
     "outputs_hidden": false
    },
    "ExecuteTime": {
     "start_time": "2023-04-14T14:31:06.611887Z",
     "end_time": "2023-04-14T14:31:48.092547Z"
    }
   },
   "outputs": [],
   "source": [
    "covid.positivos_region('huanuco')"
   ]
  },
  {
   "cell_type": "code",
   "execution_count": 42,
   "id": "12a633ce",
   "metadata": {
    "collapsed": false,
    "jupyter": {
     "outputs_hidden": false
    },
    "ExecuteTime": {
     "start_time": "2023-04-14T14:31:48.094549Z",
     "end_time": "2023-04-14T14:32:30.581612Z"
    }
   },
   "outputs": [],
   "source": [
    "covid.positivos_region('ica')"
   ]
  },
  {
   "cell_type": "code",
   "execution_count": 43,
   "id": "382d7434",
   "metadata": {
    "collapsed": false,
    "jupyter": {
     "outputs_hidden": false
    },
    "ExecuteTime": {
     "start_time": "2023-04-14T14:32:30.582614Z",
     "end_time": "2023-04-14T14:33:15.282886Z"
    }
   },
   "outputs": [],
   "source": [
    "covid.positivos_region('junin')"
   ]
  },
  {
   "cell_type": "code",
   "execution_count": 44,
   "id": "81d382a6",
   "metadata": {
    "collapsed": false,
    "jupyter": {
     "outputs_hidden": false
    },
    "ExecuteTime": {
     "start_time": "2023-04-14T14:33:15.285893Z",
     "end_time": "2023-04-14T14:34:10.208841Z"
    }
   },
   "outputs": [],
   "source": [
    "covid.positivos_region('la libertad')"
   ]
  },
  {
   "cell_type": "code",
   "execution_count": 45,
   "id": "75777245",
   "metadata": {
    "collapsed": false,
    "jupyter": {
     "outputs_hidden": false
    },
    "ExecuteTime": {
     "start_time": "2023-04-14T14:34:10.208841Z",
     "end_time": "2023-04-14T14:35:00.019669Z"
    }
   },
   "outputs": [],
   "source": [
    "covid.positivos_region('lambayeque')"
   ]
  },
  {
   "cell_type": "code",
   "execution_count": 46,
   "id": "09fca234",
   "metadata": {
    "collapsed": false,
    "jupyter": {
     "outputs_hidden": false
    },
    "ExecuteTime": {
     "start_time": "2023-04-14T14:35:00.019669Z",
     "end_time": "2023-04-14T14:35:49.149592Z"
    }
   },
   "outputs": [],
   "source": [
    "covid.positivos_region('lima')"
   ]
  },
  {
   "cell_type": "code",
   "execution_count": 47,
   "id": "06c1ad91",
   "metadata": {
    "collapsed": false,
    "jupyter": {
     "outputs_hidden": false
    },
    "ExecuteTime": {
     "start_time": "2023-04-14T14:35:49.149592Z",
     "end_time": "2023-04-14T14:36:37.793033Z"
    }
   },
   "outputs": [],
   "source": [
    "covid.positivos_region('loreto')"
   ]
  },
  {
   "cell_type": "code",
   "execution_count": 48,
   "id": "09e28312",
   "metadata": {
    "collapsed": false,
    "jupyter": {
     "outputs_hidden": false
    },
    "ExecuteTime": {
     "start_time": "2023-04-14T14:36:37.793033Z",
     "end_time": "2023-04-14T14:37:27.773161Z"
    }
   },
   "outputs": [],
   "source": [
    "covid.positivos_region('madre de dios')"
   ]
  },
  {
   "cell_type": "code",
   "execution_count": 49,
   "id": "9e7d854c",
   "metadata": {
    "collapsed": false,
    "jupyter": {
     "outputs_hidden": false
    },
    "ExecuteTime": {
     "start_time": "2023-04-14T14:37:27.774159Z",
     "end_time": "2023-04-14T14:38:09.927715Z"
    }
   },
   "outputs": [],
   "source": [
    "covid.positivos_region('moquegua')"
   ]
  },
  {
   "cell_type": "code",
   "execution_count": 50,
   "id": "d4496d59",
   "metadata": {
    "collapsed": false,
    "jupyter": {
     "outputs_hidden": false
    },
    "ExecuteTime": {
     "start_time": "2023-04-14T14:38:09.929716Z",
     "end_time": "2023-04-14T14:38:53.756680Z"
    }
   },
   "outputs": [],
   "source": [
    "covid.positivos_region('pasco')"
   ]
  },
  {
   "cell_type": "code",
   "execution_count": 51,
   "id": "48b6e549",
   "metadata": {
    "collapsed": false,
    "jupyter": {
     "outputs_hidden": false
    },
    "ExecuteTime": {
     "start_time": "2023-04-14T14:38:53.758680Z",
     "end_time": "2023-04-14T14:39:38.070630Z"
    }
   },
   "outputs": [],
   "source": [
    "covid.positivos_region('piura')"
   ]
  },
  {
   "cell_type": "code",
   "execution_count": 52,
   "id": "048e6ffe",
   "metadata": {
    "collapsed": false,
    "jupyter": {
     "outputs_hidden": false
    },
    "ExecuteTime": {
     "start_time": "2023-04-14T14:39:38.073640Z",
     "end_time": "2023-04-14T14:40:22.882086Z"
    }
   },
   "outputs": [],
   "source": [
    "covid.positivos_region('puno')"
   ]
  },
  {
   "cell_type": "code",
   "execution_count": 53,
   "id": "99180f1d",
   "metadata": {
    "collapsed": false,
    "jupyter": {
     "outputs_hidden": false
    },
    "ExecuteTime": {
     "start_time": "2023-04-14T14:40:22.885094Z",
     "end_time": "2023-04-14T14:41:10.722210Z"
    }
   },
   "outputs": [],
   "source": [
    "covid.positivos_region('san martin')"
   ]
  },
  {
   "cell_type": "code",
   "execution_count": 54,
   "id": "e8c7ee13",
   "metadata": {
    "collapsed": false,
    "jupyter": {
     "outputs_hidden": false
    },
    "ExecuteTime": {
     "start_time": "2023-04-14T14:41:10.725204Z",
     "end_time": "2023-04-14T14:41:57.099016Z"
    }
   },
   "outputs": [],
   "source": [
    "covid.positivos_region('tacna')"
   ]
  },
  {
   "cell_type": "code",
   "execution_count": 55,
   "id": "075fc9a7",
   "metadata": {
    "collapsed": false,
    "jupyter": {
     "outputs_hidden": false
    },
    "ExecuteTime": {
     "start_time": "2023-04-14T14:41:57.101017Z",
     "end_time": "2023-04-14T14:42:38.913297Z"
    }
   },
   "outputs": [],
   "source": [
    "covid.positivos_region('tumbes')"
   ]
  },
  {
   "cell_type": "code",
   "execution_count": 56,
   "id": "e648c3b1",
   "metadata": {
    "collapsed": false,
    "jupyter": {
     "outputs_hidden": false
    },
    "ExecuteTime": {
     "start_time": "2023-04-14T14:42:38.917308Z",
     "end_time": "2023-04-14T14:43:22.537636Z"
    }
   },
   "outputs": [],
   "source": [
    "covid.positivos_region('ucayali')"
   ]
  }
 ],
 "metadata": {
  "kernelspec": {
   "display_name": "Python 3 (ipykernel)",
   "language": "python",
   "name": "python3"
  },
  "language_info": {
   "codemirror_mode": {
    "name": "ipython",
    "version": 3
   },
   "file_extension": ".py",
   "mimetype": "text/x-python",
   "name": "python",
   "nbconvert_exporter": "python",
   "pygments_lexer": "ipython3",
   "version": "3.9.12"
  },
  "vscode": {
   "interpreter": {
    "hash": "b16035391e6d15f42e961d15e8d80705044948f1497ed0c48969644a26688a27"
   }
  }
 },
 "nbformat": 4,
 "nbformat_minor": 5
}
