{
 "cells": [
  {
   "cell_type": "code",
   "execution_count": 1,
   "metadata": {
    "collapsed": true
   },
   "outputs": [],
   "source": [
    "# LIBRARIES\n",
    "\n",
    "%load_ext autoreload\n",
    "%autoreload 2\n",
    "%reload_ext autoreload\n",
    "import covid_functions as covid\n",
    "import pandas as pd\n",
    "import requests"
   ]
  },
  {
   "cell_type": "code",
   "execution_count": 2,
   "outputs": [],
   "source": [
    "# CONFIG\n",
    "\n",
    "covid.working_dir('Covid-19')"
   ],
   "metadata": {
    "collapsed": false
   }
  },
  {
   "cell_type": "code",
   "execution_count": 3,
   "outputs": [
    {
     "name": "stderr",
     "output_type": "stream",
     "text": [
      "C:\\Users\\pport\\anaconda3\\lib\\site-packages\\urllib3\\connectionpool.py:1045: InsecureRequestWarning: Unverified HTTPS request is being made to host 'datos.ins.gob.pe'. Adding certificate verification is strongly advised. See: https://urllib3.readthedocs.io/en/1.26.x/advanced-usage.html#ssl-warnings\n",
      "  warnings.warn(\n"
     ]
    }
   ],
   "source": [
    "# GET NEW DATA\n",
    "\n",
    "param_headers = { \"User-Agent\": \"Mozilla/5.0 (Windows NT 10.0; Win64; x64) AppleWebKit/537.36 (KHTML, like Gecko) Chrome/99.0.4844.51 Safari/537.36\"\n",
    "                  }\n",
    "\n",
    "url = 'https://datos.ins.gob.pe/dataset/1816a9a4-5ef9-437a-ac46-248e3b6a7ef6/resource/d0bfb86b-3202-48df-8023-60e5a96d52fc/download/pmgenoma_31agos2022.csv'\n",
    "\n",
    "req = requests.get(\n",
    "    url,\n",
    "    headers=param_headers,\n",
    "    verify=False\n",
    ")\n",
    "\n",
    "url_content = req.content\n",
    "\n",
    "lineages = open('lineages.csv', 'wb')\n",
    "\n",
    "lineages.write(url_content)\n",
    "\n",
    "lineages.close()"
   ],
   "metadata": {
    "collapsed": false
   }
  },
  {
   "cell_type": "code",
   "execution_count": 4,
   "outputs": [],
   "source": [
    "lineages_df = pd.read_csv('lineages.csv', delimiter='|')"
   ],
   "metadata": {
    "collapsed": false
   }
  },
  {
   "cell_type": "code",
   "execution_count": 5,
   "outputs": [],
   "source": [
    "lineages_df.drop(lineages_df.tail(2).index,inplace=True)"
   ],
   "metadata": {
    "collapsed": false
   }
  },
  {
   "cell_type": "code",
   "execution_count": 6,
   "outputs": [],
   "source": [
    "lineages_df['FECHA_MUESTRA'] = lineages_df['FECHA_MUESTRA'].astype(np.int64)"
   ],
   "metadata": {
    "collapsed": false
   }
  },
  {
   "cell_type": "code",
   "execution_count": 7,
   "outputs": [],
   "source": [
    "lineages_df['FECHA_MUESTRA'] = lineages_df['FECHA_MUESTRA'].astype(str)"
   ],
   "metadata": {
    "collapsed": false
   }
  },
  {
   "cell_type": "code",
   "execution_count": 8,
   "outputs": [
    {
     "data": {
      "text/plain": "FECHA_CORTE               object\nUUID                     float64\nFECHA_MUESTRA             object\nEdad                     float64\nSexo                      object\nInstitucion               object\nUBIGEO_PACIENTE          float64\nDEPARTAMENTO_PACIENTE     object\nPROVINCIA_PACIENTE        object\nDISTRITO_PACIENTE         object\nDEPARTAMENTO_MUESTRA      object\nPROVINCIA_MUESTRA         object\nDISTRITO_MUESTRA          object\nTIPO_MUESTRA              object\nRESULTADO                 object\ndtype: object"
     },
     "execution_count": 8,
     "metadata": {},
     "output_type": "execute_result"
    }
   ],
   "source": [
    "lineages_df.dtypes"
   ],
   "metadata": {
    "collapsed": false
   }
  },
  {
   "cell_type": "code",
   "execution_count": 9,
   "outputs": [],
   "source": [
    "lineages_df['dia'] = lineages_df['FECHA_MUESTRA'].str[-2:]\n",
    "\n",
    "lineages_df['mes'] = lineages_df['FECHA_MUESTRA'].str[4:6]\n",
    "\n",
    "lineages_df['año'] = lineages_df['FECHA_MUESTRA'].str[:4]"
   ],
   "metadata": {
    "collapsed": false
   }
  },
  {
   "cell_type": "code",
   "execution_count": 10,
   "outputs": [],
   "source": [
    "lineages_df['date'] = lineages_df['dia'] + '/' + lineages_df['mes'] + '/' + lineages_df['año']"
   ],
   "metadata": {
    "collapsed": false
   }
  },
  {
   "cell_type": "code",
   "execution_count": 11,
   "outputs": [],
   "source": [
    "lineages_df['dia'] = pd.to_datetime(lineages_df['dia'], format='%d')\n",
    "\n",
    "lineages_df['mes'] = pd.to_datetime(lineages_df['mes'], format='%m')\n",
    "\n",
    "lineages_df['año'] = pd.to_datetime(lineages_df['año'], format='%Y')\n",
    "\n",
    "lineages_df['date'] = pd.to_datetime(lineages_df['date'], format='%d/%m/%Y')"
   ],
   "metadata": {
    "collapsed": false
   }
  },
  {
   "cell_type": "code",
   "execution_count": 12,
   "outputs": [],
   "source": [
    "lineages_df['mes'] = pd.DatetimeIndex(lineages_df['date']).month\n",
    "\n",
    "lineages_df['año'] = pd.DatetimeIndex(lineages_df['date']).year"
   ],
   "metadata": {
    "collapsed": false
   }
  },
  {
   "cell_type": "code",
   "execution_count": 13,
   "outputs": [],
   "source": [
    "lineages_df['RESULTADO'] = lineages_df['RESULTADO'].str.replace('Sublinaje','')"
   ],
   "metadata": {
    "collapsed": false
   }
  },
  {
   "cell_type": "code",
   "execution_count": 14,
   "outputs": [],
   "source": [
    "lineages_df['RESULTADO'] = lineages_df['RESULTADO'].str.replace('Linaje','')"
   ],
   "metadata": {
    "collapsed": false
   }
  },
  {
   "cell_type": "code",
   "execution_count": 15,
   "outputs": [],
   "source": [
    "lineages_df['RESULTADO'] = lineages_df['RESULTADO'].str.replace('linaje','')"
   ],
   "metadata": {
    "collapsed": false
   }
  },
  {
   "cell_type": "code",
   "execution_count": 16,
   "outputs": [],
   "source": [
    "lineages_df['RESULTADO'] = lineages_df['RESULTADO'].str.replace('LINAJE','')"
   ],
   "metadata": {
    "collapsed": false
   }
  },
  {
   "cell_type": "code",
   "execution_count": 17,
   "outputs": [],
   "source": [
    "lineages_df['RESULTADO'] = lineages_df['RESULTADO'].str.replace('  ','')"
   ],
   "metadata": {
    "collapsed": false
   }
  },
  {
   "cell_type": "code",
   "execution_count": 18,
   "outputs": [],
   "source": [
    "lineages_df['RESULTADO'] = lineages_df['RESULTADO'].str.replace(' ', '')"
   ],
   "metadata": {
    "collapsed": false
   }
  },
  {
   "cell_type": "code",
   "execution_count": 19,
   "outputs": [],
   "source": [
    "# lineages_df['RESULTADO'] = lineages_df['RESULTADO'].map(lambda x: x.lstrip('LINAJE'))"
   ],
   "metadata": {
    "collapsed": false
   }
  },
  {
   "cell_type": "code",
   "execution_count": 20,
   "outputs": [],
   "source": [
    "# lineages_df['RESULTADO'] = lineages_df['RESULTADO'].map(lambda x: x.lstrip(' '))"
   ],
   "metadata": {
    "collapsed": false
   }
  },
  {
   "cell_type": "code",
   "execution_count": 21,
   "outputs": [],
   "source": [
    "lineages_df['month_year'] = pd.to_datetime(lineages_df['date']).dt.to_period('M')"
   ],
   "metadata": {
    "collapsed": false
   }
  },
  {
   "cell_type": "code",
   "execution_count": 22,
   "outputs": [],
   "source": [
    "lineages_df['labels'] = ''"
   ],
   "metadata": {
    "collapsed": false
   }
  },
  {
   "cell_type": "code",
   "execution_count": 23,
   "outputs": [],
   "source": [
    "# Alpha\n",
    "lineages_df.loc[lineages_df['RESULTADO'] == 'B.1.1.7', 'labels'] = 'Alpha'"
   ],
   "metadata": {
    "collapsed": false
   }
  },
  {
   "cell_type": "code",
   "execution_count": 24,
   "outputs": [],
   "source": [
    "# Brasil\n",
    "lineages_df.loc[lineages_df['RESULTADO'] == 'B.1.1.28', 'labels'] = 'Brasil'\n",
    "\n",
    "lineages_df.loc[lineages_df['RESULTADO'] == 'BA.1.14', 'labels'] = 'Brasil'\n",
    "\n",
    "lineages_df.loc[lineages_df['RESULTADO'] == 'BA.1.14.1', 'labels'] = 'Brasil'\n",
    "\n",
    "lineages_df.loc[lineages_df['RESULTADO'] == 'P.1.11', 'labels'] = 'Brasil'\n",
    "\n",
    "lineages_df.loc[lineages_df['RESULTADO'] == 'P.1.4', 'labels'] = 'Brasil'\n",
    "\n",
    "lineages_df.loc[lineages_df['RESULTADO'] == 'P.1.7', 'labels'] = 'Brasil'"
   ],
   "metadata": {
    "collapsed": false
   }
  },
  {
   "cell_type": "code",
   "execution_count": 25,
   "outputs": [],
   "source": [
    "# Cepa original\n",
    "lineages_df.loc[lineages_df['RESULTADO'] == 'A.1', 'labels'] = 'Cepa original'"
   ],
   "metadata": {
    "collapsed": false
   }
  },
  {
   "cell_type": "code",
   "execution_count": 26,
   "outputs": [],
   "source": [
    "# Delta\n",
    "\n",
    "lineages_df.loc[lineages_df['RESULTADO'] == 'A.1', 'labels'] = 'USA'\n",
    "lineages_df.loc[lineages_df['RESULTADO'] == 'AY.1', 'labels'] = 'Delta'\n",
    "lineages_df.loc[lineages_df['RESULTADO'] == 'AY.10', 'labels'] = 'Delta'\n",
    "lineages_df.loc[lineages_df['RESULTADO'] == 'AY.100', 'labels'] = 'Delta'\n",
    "lineages_df.loc[lineages_df['RESULTADO'] == 'AY.101', 'labels'] = 'Delta'\n",
    "lineages_df.loc[lineages_df['RESULTADO'] == 'AY.102', 'labels'] = 'Delta'\n",
    "lineages_df.loc[lineages_df['RESULTADO'] == 'AY.103', 'labels'] = 'Delta'\n",
    "lineages_df.loc[lineages_df['RESULTADO'] == 'AY.105', 'labels'] = 'Delta'\n",
    "lineages_df.loc[lineages_df['RESULTADO'] == 'AY.11', 'labels'] = 'Delta'\n",
    "lineages_df.loc[lineages_df['RESULTADO'] == 'AY.112', 'labels'] = 'Delta'\n",
    "lineages_df.loc[lineages_df['RESULTADO'] == 'AY.113', 'labels'] = 'Delta'\n",
    "lineages_df.loc[lineages_df['RESULTADO'] == 'AY.114', 'labels'] = 'Delta'\n",
    "lineages_df.loc[lineages_df['RESULTADO'] == 'AY.117', 'labels'] = 'Delta'\n",
    "lineages_df.loc[lineages_df['RESULTADO'] == 'AY.119', 'labels'] = 'Delta'\n",
    "lineages_df.loc[lineages_df['RESULTADO'] == 'AY.119.1', 'labels'] = 'Delta'\n",
    "lineages_df.loc[lineages_df['RESULTADO'] == 'AY.12', 'labels'] = 'Delta'\n",
    "lineages_df.loc[lineages_df['RESULTADO'] == 'AY.121', 'labels'] = 'Delta'\n",
    "lineages_df.loc[lineages_df['RESULTADO'] == 'AY.122', 'labels'] = 'Delta'\n",
    "lineages_df.loc[lineages_df['RESULTADO'] == 'AY.122.4', 'labels'] = 'Delta'\n",
    "lineages_df.loc[lineages_df['RESULTADO'] == 'AY.126', 'labels'] = 'Delta'\n",
    "lineages_df.loc[lineages_df['RESULTADO'] == 'AY.127', 'labels'] = 'Delta'\n",
    "lineages_df.loc[lineages_df['RESULTADO'] == 'AY.128', 'labels'] = 'Delta'\n",
    "lineages_df.loc[lineages_df['RESULTADO'] == 'AY.14', 'labels'] = 'Delta'\n",
    "lineages_df.loc[lineages_df['RESULTADO'] == 'AY.20', 'labels'] = 'Delta'\n",
    "lineages_df.loc[lineages_df['RESULTADO'] == 'AY.23', 'labels'] = 'Delta'\n",
    "lineages_df.loc[lineages_df['RESULTADO'] == 'AY.24', 'labels'] = 'Delta'\n",
    "lineages_df.loc[lineages_df['RESULTADO'] == 'AY.25', 'labels'] = 'Delta'\n",
    "lineages_df.loc[lineages_df['RESULTADO'] == 'AY.25.1', 'labels'] = 'Delta'\n",
    "lineages_df.loc[lineages_df['RESULTADO'] == 'AY.25.1.1', 'labels'] = 'Delta'\n",
    "lineages_df.loc[lineages_df['RESULTADO'] == 'AY.26', 'labels'] = 'Delta'\n",
    "lineages_df.loc[lineages_df['RESULTADO'] == 'AY.29', 'labels'] = 'Otros'\n",
    "lineages_df.loc[lineages_df['RESULTADO'] == 'AY.29.1', 'labels'] = 'Delta'\n",
    "lineages_df.loc[lineages_df['RESULTADO'] == 'AY.3', 'labels'] = 'Delta'\n",
    "lineages_df.loc[lineages_df['RESULTADO'] == 'AY.3.1', 'labels'] = 'Delta'\n",
    "lineages_df.loc[lineages_df['RESULTADO'] == 'AY.3.2', 'labels'] = 'Delta'\n",
    "lineages_df.loc[lineages_df['RESULTADO'] == 'AY.33', 'labels'] = 'Otros'\n",
    "lineages_df.loc[lineages_df['RESULTADO'] == 'AY.34', 'labels'] = 'Delta'\n",
    "lineages_df.loc[lineages_df['RESULTADO'] == 'AY.34.1', 'labels'] = 'Delta'\n",
    "lineages_df.loc[lineages_df['RESULTADO'] == 'AY.34.1.1', 'labels'] = 'Delta'\n",
    "lineages_df.loc[lineages_df['RESULTADO'] == 'AY.35', 'labels'] = 'Delta'\n",
    "lineages_df.loc[lineages_df['RESULTADO'] == 'AY.39', 'labels'] = 'Delta'\n",
    "lineages_df.loc[lineages_df['RESULTADO'] == 'AY.39.1', 'labels'] = 'Delta'\n",
    "lineages_df.loc[lineages_df['RESULTADO'] == 'AY.39.2', 'labels'] = 'Delta'\n",
    "lineages_df.loc[lineages_df['RESULTADO'] == 'AY.4', 'labels'] = 'Delta'\n",
    "lineages_df.loc[lineages_df['RESULTADO'] == 'AY.41', 'labels'] = 'Delta'\n",
    "lineages_df.loc[lineages_df['RESULTADO'] == 'AY.42', 'labels'] = 'Delta'\n",
    "lineages_df.loc[lineages_df['RESULTADO'] == 'AY.43', 'labels'] = 'Delta'\n",
    "lineages_df.loc[lineages_df['RESULTADO'] == 'AY.43.1', 'labels'] = 'Delta'\n",
    "lineages_df.loc[lineages_df['RESULTADO'] == 'AY.43.3', 'labels'] = 'Delta'\n",
    "lineages_df.loc[lineages_df['RESULTADO'] == 'AY.44', 'labels'] = 'Delta'\n",
    "lineages_df.loc[lineages_df['RESULTADO'] == 'AY.45', 'labels'] = 'Delta'\n",
    "lineages_df.loc[lineages_df['RESULTADO'] == 'AY.46', 'labels'] = 'Delta'\n",
    "lineages_df.loc[lineages_df['RESULTADO'] == 'AY.46.2', 'labels'] = 'Delta'\n",
    "lineages_df.loc[lineages_df['RESULTADO'] == 'AY.46.6', 'labels'] = 'Delta'\n",
    "lineages_df.loc[lineages_df['RESULTADO'] == 'AY.47', 'labels'] = 'Delta'\n",
    "lineages_df.loc[lineages_df['RESULTADO'] == 'AY.48', 'labels'] = 'Delta'\n",
    "lineages_df.loc[lineages_df['RESULTADO'] == 'AY.5', 'labels'] = 'Delta'\n",
    "lineages_df.loc[lineages_df['RESULTADO'] == 'AY.5.2', 'labels'] = 'Delta'\n",
    "lineages_df.loc[lineages_df['RESULTADO'] == 'AY.5.3', 'labels'] = 'Delta'\n",
    "lineages_df.loc[lineages_df['RESULTADO'] == 'AY.5.4', 'labels'] = 'Delta'\n",
    "lineages_df.loc[lineages_df['RESULTADO'] == 'AY.58', 'labels'] = 'Delta'\n",
    "lineages_df.loc[lineages_df['RESULTADO'] == 'AY.59', 'labels'] = 'Delta'\n",
    "lineages_df.loc[lineages_df['RESULTADO'] == 'AY.64', 'labels'] = 'Delta'\n",
    "lineages_df.loc[lineages_df['RESULTADO'] == 'AY.67', 'labels'] = 'Delta'\n",
    "lineages_df.loc[lineages_df['RESULTADO'] == 'AY.7.1', 'labels'] = 'Otros'\n",
    "lineages_df.loc[lineages_df['RESULTADO'] == 'AY.75', 'labels'] = 'Delta'\n",
    "lineages_df.loc[lineages_df['RESULTADO'] == 'AY.77', 'labels'] = 'Delta'\n",
    "lineages_df.loc[lineages_df['RESULTADO'] == 'AY.84', 'labels'] = 'Delta'\n",
    "lineages_df.loc[lineages_df['RESULTADO'] == 'AY.87', 'labels'] = 'Delta'\n",
    "lineages_df.loc[lineages_df['RESULTADO'] == 'AY.88', 'labels'] = 'Delta'\n",
    "lineages_df.loc[lineages_df['RESULTADO'] == 'AY.9', 'labels'] = 'Delta'\n",
    "lineages_df.loc[lineages_df['RESULTADO'] == 'AY.9.2', 'labels'] = 'Delta'\n",
    "lineages_df.loc[lineages_df['RESULTADO'] == 'AY.93', 'labels'] = 'Delta'\n",
    "lineages_df.loc[lineages_df['RESULTADO'] == 'AY.95', 'labels'] = 'Delta'\n",
    "lineages_df.loc[lineages_df['RESULTADO'] == 'AY.99', 'labels'] = 'Delta'\n",
    "lineages_df.loc[lineages_df['RESULTADO'] == 'AY.99.2', 'labels'] = 'Delta'\n",
    "lineages_df.loc[lineages_df['RESULTADO'] == 'AY102.1', 'labels'] = 'Delta'\n",
    "lineages_df.loc[lineages_df['RESULTADO'] == 'AY102.2', 'labels'] = 'Delta'\n",
    "lineages_df.loc[lineages_df['RESULTADO'] == 'AZ.5', 'labels'] = 'Otros'\n",
    "lineages_df.loc[lineages_df['RESULTADO'] == 'B.1', 'labels'] = 'Original (cepa italiana)'\n",
    "lineages_df.loc[lineages_df['RESULTADO'] == 'B.1.1', 'labels'] = 'Original (cepa italiana)'\n",
    "lineages_df.loc[lineages_df['RESULTADO'] == 'B.1.1.1', 'labels'] = 'UK'\n",
    "lineages_df.loc[lineages_df['RESULTADO'] == 'B.1.1.166', 'labels'] = 'UK'\n",
    "lineages_df.loc[lineages_df['RESULTADO'] == 'B.1.1.208', 'labels'] = 'UK'\n",
    "lineages_df.loc[lineages_df['RESULTADO'] == 'B.1.1.220', 'labels'] = 'UK'\n",
    "lineages_df.loc[lineages_df['RESULTADO'] == 'B.1.1.221', 'labels'] = 'Otros'\n",
    "lineages_df.loc[lineages_df['RESULTADO'] == 'B.1.1.317', 'labels'] = 'Otros'\n",
    "lineages_df.loc[lineages_df['RESULTADO'] == 'B.1.1.337', 'labels'] = 'USA'\n",
    "lineages_df.loc[lineages_df['RESULTADO'] == 'B.1.1.348', 'labels'] = 'USA'\n",
    "lineages_df.loc[lineages_df['RESULTADO'] == 'B.1.1.372', 'labels'] = 'UK'\n",
    "lineages_df.loc[lineages_df['RESULTADO'] == 'B.1.1.411', 'labels'] = 'USA'\n",
    "lineages_df.loc[lineages_df['RESULTADO'] == 'B.1.1.485', 'labels'] = 'Otros'\n",
    "lineages_df.loc[lineages_df['RESULTADO'] == 'B.1.1.506', 'labels'] = 'Otros'\n",
    "lineages_df.loc[lineages_df['RESULTADO'] == 'B.1.1.529', 'labels'] = 'Omicron'\n",
    "lineages_df.loc[lineages_df['RESULTADO'] == 'B.1.1.89', 'labels'] = 'UK'\n",
    "lineages_df.loc[lineages_df['RESULTADO'] == 'B.1.111', 'labels'] = 'Otros'\n",
    "lineages_df.loc[lineages_df['RESULTADO'] == 'B.1.177', 'labels'] = 'USA'\n",
    "lineages_df.loc[lineages_df['RESULTADO'] == 'B.1.177.45', 'labels'] = 'USA'\n",
    "lineages_df.loc[lineages_df['RESULTADO'] == 'B.1.2', 'labels'] = 'USA'\n",
    "lineages_df.loc[lineages_df['RESULTADO'] == 'B.1.205', 'labels'] = 'Perú'\n",
    "lineages_df.loc[lineages_df['RESULTADO'] == 'B.1.208', 'labels'] = 'Otros'\n",
    "lineages_df.loc[lineages_df['RESULTADO'] == 'B.1.23', 'labels'] = 'Otros'\n",
    "lineages_df.loc[lineages_df['RESULTADO'] == 'B.1.234', 'labels'] = 'USA'\n",
    "lineages_df.loc[lineages_df['RESULTADO'] == 'B.1.243', 'labels'] = 'USA'\n",
    "lineages_df.loc[lineages_df['RESULTADO'] == 'B.1.429', 'labels'] = 'Epsilon'\n",
    "lineages_df.loc[lineages_df['RESULTADO'] == 'B.1.450', 'labels'] = 'USA'\n",
    "lineages_df.loc[lineages_df['RESULTADO'] == 'B.1.526', 'labels'] = 'Iota'\n",
    "lineages_df.loc[lineages_df['RESULTADO'] == 'B.1.575', 'labels'] = 'USA'\n",
    "lineages_df.loc[lineages_df['RESULTADO'] == 'B.1.605', 'labels'] = 'USA'\n",
    "lineages_df.loc[lineages_df['RESULTADO'] == 'B.1.617.2', 'labels'] = 'Delta'\n",
    "lineages_df.loc[lineages_df['RESULTADO'] == 'B.1.621', 'labels'] = 'Mu'\n",
    "lineages_df.loc[lineages_df['RESULTADO'] == 'B.1.621.1', 'labels'] = 'Mu'\n",
    "lineages_df.loc[lineages_df['RESULTADO'] == 'B.1.625', 'labels'] = 'Otros'\n",
    "lineages_df.loc[lineages_df['RESULTADO'] == 'B.1.628', 'labels'] = 'USA'\n",
    "lineages_df.loc[lineages_df['RESULTADO'] == 'B1.1.120', 'labels'] = 'UK'\n",
    "lineages_df.loc[lineages_df['RESULTADO'] == 'B1.1.208', 'labels'] = 'UK'\n",
    "lineages_df.loc[lineages_df['RESULTADO'] == 'BA.1', 'labels'] = 'Omicron'\n",
    "lineages_df.loc[lineages_df['RESULTADO'] == 'BA.1.1', 'labels'] = 'Omicron'\n",
    "lineages_df.loc[lineages_df['RESULTADO'] == 'BA.1.1.1', 'labels'] = 'Europa'\n",
    "lineages_df.loc[lineages_df['RESULTADO'] == 'BA.1.1.11', 'labels'] = 'Europa'\n",
    "lineages_df.loc[lineages_df['RESULTADO'] == 'BA.1.1.13', 'labels'] = 'UK'\n",
    "lineages_df.loc[lineages_df['RESULTADO'] == 'BA.1.1.15', 'labels'] = 'Europa'\n",
    "lineages_df.loc[lineages_df['RESULTADO'] == 'BA.1.1.16', 'labels'] = 'USA'\n",
    "lineages_df.loc[lineages_df['RESULTADO'] == 'BA.1.1.18', 'labels'] = 'USA'\n",
    "lineages_df.loc[lineages_df['RESULTADO'] == 'BA.1.13', 'labels'] = 'Europa'\n",
    "lineages_df.loc[lineages_df['RESULTADO'] == 'BA.1.15', 'labels'] = 'USA'\n",
    "lineages_df.loc[lineages_df['RESULTADO'] == 'BA.1.15.1', 'labels'] = 'UK'\n",
    "lineages_df.loc[lineages_df['RESULTADO'] == 'BA.1.17', 'labels'] = 'Europa'\n",
    "lineages_df.loc[lineages_df['RESULTADO'] == 'BA.1.17.2', 'labels'] = 'Otros'\n",
    "lineages_df.loc[lineages_df['RESULTADO'] == 'BA.1.18', 'labels'] = 'Europa'\n",
    "lineages_df.loc[lineages_df['RESULTADO'] == 'BA.1.19', 'labels'] = 'Europa'\n",
    "lineages_df.loc[lineages_df['RESULTADO'] == 'BA.1.20', 'labels'] = 'USA'\n",
    "lineages_df.loc[lineages_df['RESULTADO'] == 'BA.1.22', 'labels'] = 'Perú'\n",
    "lineages_df.loc[lineages_df['RESULTADO'] == 'BA.1.5', 'labels'] = 'UK'\n",
    "lineages_df.loc[lineages_df['RESULTADO'] == 'BA.2', 'labels'] = 'Omicron'\n",
    "lineages_df.loc[lineages_df['RESULTADO'] == 'BA.2.1', 'labels'] = 'UK'\n",
    "lineages_df.loc[lineages_df['RESULTADO'] == 'BA.2.10', 'labels'] = 'Sudáfrica'\n",
    "lineages_df.loc[lineages_df['RESULTADO'] == 'BA.2.12', 'labels'] = 'Europa'\n",
    "lineages_df.loc[lineages_df['RESULTADO'] == 'BA.2.12.1', 'labels'] = 'USA'\n",
    "lineages_df.loc[lineages_df['RESULTADO'] == 'BA.2.13', 'labels'] = 'Europa'\n",
    "lineages_df.loc[lineages_df['RESULTADO'] == 'BA.2.18', 'labels'] = 'UK'\n",
    "lineages_df.loc[lineages_df['RESULTADO'] == 'BA.2.20', 'labels'] = 'Otros'\n",
    "lineages_df.loc[lineages_df['RESULTADO'] == 'BA.2.23', 'labels'] = 'UK'\n",
    "lineages_df.loc[lineages_df['RESULTADO'] == 'BA.2.26', 'labels'] = 'USA'\n",
    "lineages_df.loc[lineages_df['RESULTADO'] == 'BA.2.28', 'labels'] = 'Otros'\n",
    "lineages_df.loc[lineages_df['RESULTADO'] == 'BA.2.3', 'labels'] = 'Filipinas'\n",
    "lineages_df.loc[lineages_df['RESULTADO'] == 'BA.2.3.15', 'labels'] = 'Otros'\n",
    "lineages_df.loc[lineages_df['RESULTADO'] == 'BA.2.34', 'labels'] = 'Otros'\n",
    "lineages_df.loc[lineages_df['RESULTADO'] == 'BA.2.35', 'labels'] = 'Portugal'\n",
    "lineages_df.loc[lineages_df['RESULTADO'] == 'BA.2.36', 'labels'] = 'Europa'\n",
    "lineages_df.loc[lineages_df['RESULTADO'] == 'BA.2.38', 'labels'] = 'India'\n",
    "lineages_df.loc[lineages_df['RESULTADO'] == 'BA.2.40.1', 'labels'] = 'Otros'\n",
    "lineages_df.loc[lineages_df['RESULTADO'] == 'BA.2.48', 'labels'] = 'USA'\n",
    "lineages_df.loc[lineages_df['RESULTADO'] == 'BA.2.5', 'labels'] = 'Portugal'\n",
    "lineages_df.loc[lineages_df['RESULTADO'] == 'BA.2.53', 'labels'] = 'Otros'\n",
    "lineages_df.loc[lineages_df['RESULTADO'] == 'BA.2.54', 'labels'] = 'Europa'\n",
    "lineages_df.loc[lineages_df['RESULTADO'] == 'BA.2.56', 'labels'] = 'Europa'\n",
    "lineages_df.loc[lineages_df['RESULTADO'] == 'BA.2.60', 'labels'] = 'Perú'\n",
    "lineages_df.loc[lineages_df['RESULTADO'] == 'BA.2.65', 'labels'] = 'USA'\n",
    "lineages_df.loc[lineages_df['RESULTADO'] == 'BA.2.66', 'labels'] = 'Otros'\n",
    "lineages_df.loc[lineages_df['RESULTADO'] == 'BA.2.72', 'labels'] = 'USA'\n",
    "lineages_df.loc[lineages_df['RESULTADO'] == 'BA.2.75', 'labels'] = 'India'\n",
    "lineages_df.loc[lineages_df['RESULTADO'] == 'BA.2.8', 'labels'] = 'UK'\n",
    "lineages_df.loc[lineages_df['RESULTADO'] == 'BA.2.9', 'labels'] = 'Europa'\n",
    "lineages_df.loc[lineages_df['RESULTADO'] == 'BA.3', 'labels'] = 'Omicron'\n",
    "lineages_df.loc[lineages_df['RESULTADO'] == 'BA.4', 'labels'] = 'Omicron'\n",
    "lineages_df.loc[lineages_df['RESULTADO'] == 'BA.4.1', 'labels'] = 'Sudáfrica'\n",
    "lineages_df.loc[lineages_df['RESULTADO'] == 'BA.4.2', 'labels'] = 'USA'\n",
    "lineages_df.loc[lineages_df['RESULTADO'] == 'BA.4.4', 'labels'] = 'USA'\n",
    "lineages_df.loc[lineages_df['RESULTADO'] == 'BA.4.6', 'labels'] = 'USA'\n",
    "lineages_df.loc[lineages_df['RESULTADO'] == 'BA.5', 'labels'] = 'Omicron'\n",
    "lineages_df.loc[lineages_df['RESULTADO'] == 'BA.5.1', 'labels'] = 'Portugal'\n",
    "lineages_df.loc[lineages_df['RESULTADO'] == 'BA.5.1.1', 'labels'] = 'USA'\n",
    "lineages_df.loc[lineages_df['RESULTADO'] == 'BA.5.1.2', 'labels'] = 'Europa'\n",
    "lineages_df.loc[lineages_df['RESULTADO'] == 'BA.5.1.3', 'labels'] = 'Europa'\n",
    "lineages_df.loc[lineages_df['RESULTADO'] == 'BA.5.1.4', 'labels'] = 'Europa'\n",
    "lineages_df.loc[lineages_df['RESULTADO'] == 'BA.5.2', 'labels'] = 'Sudáfrica'\n",
    "lineages_df.loc[lineages_df['RESULTADO'] == 'BA.5.2.1', 'labels'] = 'Sudáfrica'\n",
    "lineages_df.loc[lineages_df['RESULTADO'] == 'BA.5.3.1', 'labels'] = 'Sudáfrica'\n",
    "lineages_df.loc[lineages_df['RESULTADO'] == 'BA.5.3.2', 'labels'] = 'Otros'\n",
    "lineages_df.loc[lineages_df['RESULTADO'] == 'BA.5.5', 'labels'] = 'USA'\n",
    "lineages_df.loc[lineages_df['RESULTADO'] == 'BA.5.6', 'labels'] = 'USA'\n",
    "lineages_df.loc[lineages_df['RESULTADO'] == 'BE.1', 'labels'] = 'Sudáfrica'\n",
    "lineages_df.loc[lineages_df['RESULTADO'] == 'BE.1.1', 'labels'] = 'Otros'\n",
    "lineages_df.loc[lineages_df['RESULTADO'] == 'BE.3', 'labels'] = 'USA'\n",
    "lineages_df.loc[lineages_df['RESULTADO'] == 'BF.1', 'labels'] = 'Europa'\n",
    "lineages_df.loc[lineages_df['RESULTADO'] == 'BF.2', 'labels'] = 'Otros'\n",
    "lineages_df.loc[lineages_df['RESULTADO'] == 'BF.5', 'labels'] = 'Otros'\n",
    "lineages_df.loc[lineages_df['RESULTADO'] == 'BG.1', 'labels'] = 'Perú'\n",
    "lineages_df.loc[lineages_df['RESULTADO'] == 'BG.2', 'labels'] = 'USA'\n",
    "lineages_df.loc[lineages_df['RESULTADO'] == 'BG.3', 'labels'] = 'Peru'\n",
    "lineages_df.loc[lineages_df['RESULTADO'] == 'C.11', 'labels'] = 'UK'\n",
    "lineages_df.loc[lineages_df['RESULTADO'] == 'C.13', 'labels'] = 'Perú'\n",
    "lineages_df.loc[lineages_df['RESULTADO'] == 'C.14', 'labels'] = 'Perú'\n",
    "lineages_df.loc[lineages_df['RESULTADO'] == 'C.23', 'labels'] = 'USA'\n",
    "lineages_df.loc[lineages_df['RESULTADO'] == 'C.32', 'labels'] = 'Perú'\n",
    "lineages_df.loc[lineages_df['RESULTADO'] == 'C.33', 'labels'] = 'Perú'\n",
    "lineages_df.loc[lineages_df['RESULTADO'] == 'C.36', 'labels'] = 'Otros'\n",
    "lineages_df.loc[lineages_df['RESULTADO'] == 'C.36.3', 'labels'] = 'Europa'\n",
    "lineages_df.loc[lineages_df['RESULTADO'] == 'C.37', 'labels'] = 'Perú'\n",
    "lineages_df.loc[lineages_df['RESULTADO'] == 'C.37.1', 'labels'] = 'Otros'\n",
    "lineages_df.loc[lineages_df['RESULTADO'] == 'C.4', 'labels'] = 'Perú'\n",
    "lineages_df.loc[lineages_df['RESULTADO'] == 'C.40', 'labels'] = 'Perú'\n",
    "lineages_df.loc[lineages_df['RESULTADO'] == 'N.4', 'labels'] = 'Otros'\n",
    "lineages_df.loc[lineages_df['RESULTADO'] == 'P.1', 'labels'] = 'Gamma'\n",
    "lineages_df.loc[lineages_df['RESULTADO'] == 'P.1.1', 'labels'] = 'Europa'\n",
    "lineages_df.loc[lineages_df['RESULTADO'] == 'P.1.12', 'labels'] = 'Perú'\n",
    "lineages_df.loc[lineages_df['RESULTADO'] == 'P.2', 'labels'] = 'Zeta'\n",
    "lineages_df.loc[lineages_df['RESULTADO'] == 'XAC', 'labels'] = 'USA'\n",
    "lineages_df.loc[lineages_df['RESULTADO'] == 'XAE', 'labels'] = 'Otros'\n",
    "lineages_df.loc[lineages_df['RESULTADO'] == 'XAG', 'labels'] = 'Otros'\n",
    "lineages_df.loc[lineages_df['RESULTADO'] == 'XE', 'labels'] = 'UK'\n",
    "lineages_df.loc[lineages_df['RESULTADO'] == 'XQ', 'labels'] = 'UK'\n",
    "lineages_df.loc[lineages_df['RESULTADO'] == 'XT', 'labels'] = 'Sudáfrica'\n",
    "lineages_df.loc[lineages_df['RESULTADO'] == 'XW', 'labels'] = 'USA'\n",
    "lineages_df.loc[lineages_df['RESULTADO'] == 'BA.2.75', 'labels'] = 'Centaurus'"
   ],
   "metadata": {
    "collapsed": false
   }
  },
  {
   "cell_type": "code",
   "execution_count": 27,
   "outputs": [],
   "source": [
    "lineages_grouped = lineages_df.groupby(['año', 'mes', 'RESULTADO']).count()\n",
    "\n",
    "# DataFrame({'Linaje' : lineages_df.groupby([\"date\", \"RESULTADO\"] ).size()}).reset_index()"
   ],
   "metadata": {
    "collapsed": false
   }
  },
  {
   "cell_type": "code",
   "execution_count": 28,
   "outputs": [],
   "source": [
    "lineages_grouped_df = lineages_df.groupby(['month_year', 'RESULTADO'], as_index=False).count()"
   ],
   "metadata": {
    "collapsed": false
   }
  },
  {
   "cell_type": "code",
   "execution_count": 29,
   "outputs": [],
   "source": [
    "lineages_grouped_df.to_excel('linajes.xlsx')"
   ],
   "metadata": {
    "collapsed": false
   }
  },
  {
   "cell_type": "code",
   "execution_count": 30,
   "outputs": [],
   "source": [
    "lineages_grouped_2 = lineages_df.groupby(['año', 'mes', 'labels']).count()\n",
    "\n",
    "# DataFrame({'Linaje' : lineages_df.groupby([\"date\", \"labels\"] ).size()}).reset_index()\n",
    "\n",
    "lineages_grouped_df_2 = lineages_df.groupby(['month_year', 'labels'], as_index=False).count()\n",
    "\n",
    "lineages_grouped_df_2.to_excel('linajes_2.xlsx')"
   ],
   "metadata": {
    "collapsed": false
   }
  }
 ],
 "metadata": {
  "kernelspec": {
   "display_name": "Python 3",
   "language": "python",
   "name": "python3"
  },
  "language_info": {
   "codemirror_mode": {
    "name": "ipython",
    "version": 2
   },
   "file_extension": ".py",
   "mimetype": "text/x-python",
   "name": "python",
   "nbconvert_exporter": "python",
   "pygments_lexer": "ipython2",
   "version": "2.7.6"
  }
 },
 "nbformat": 4,
 "nbformat_minor": 0
}
