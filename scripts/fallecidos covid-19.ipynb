{
 "cells": [
  {
   "cell_type": "code",
   "execution_count": 4,
   "id": "5d05f208",
   "metadata": {
    "ExecuteTime": {
     "start_time": "2023-04-14T12:52:32.598999Z",
     "end_time": "2023-04-14T12:52:32.912744Z"
    }
   },
   "outputs": [
    {
     "name": "stdout",
     "output_type": "stream",
     "text": [
      "The autoreload extension is already loaded. To reload it, use:\n",
      "  %reload_ext autoreload\n"
     ]
    }
   ],
   "source": [
    "# LIBRARIES AND CONFIG\n",
    "\n",
    "%load_ext autoreload\n",
    "%autoreload 2\n",
    "%reload_ext autoreload\n",
    "import covid_functions as covid"
   ]
  },
  {
   "cell_type": "code",
   "execution_count": 5,
   "id": "7934c209",
   "metadata": {
    "ExecuteTime": {
     "start_time": "2023-04-14T12:52:32.708789Z",
     "end_time": "2023-04-14T12:52:32.928370Z"
    }
   },
   "outputs": [],
   "source": [
    "covid.working_dir('Covid-19')"
   ]
  },
  {
   "cell_type": "code",
   "execution_count": 6,
   "id": "05ff2bdc",
   "metadata": {
    "ExecuteTime": {
     "start_time": "2023-04-14T12:52:32.802958Z",
     "end_time": "2023-04-14T12:52:37.949602Z"
    }
   },
   "outputs": [
    {
     "name": "stderr",
     "output_type": "stream",
     "text": [
      "C:\\Users\\pport\\OneDrive\\Projects\\Covid-19\\scripts\\covid_functions.py:157: DtypeWarning: Columns (8) have mixed types. Specify dtype option on import or set low_memory=False.\n",
      "  data_deaths = pd.read_csv('fallecidos_covid.csv', delimiter = ';')\n",
      "C:\\Users\\pport\\OneDrive\\Projects\\Covid-19\\scripts\\covid_functions.py:173: UserWarning: Parsing dates in DD/MM/YYYY format when dayfirst=False (the default) was specified. This may lead to inconsistently parsed dates! Specify a format to ensure consistent parsing.\n",
      "  data_deaths['DATE_DEATH'] = pd.to_datetime(data_deaths['DATE_DEATH'])\n"
     ]
    }
   ],
   "source": [
    "covid.fallecidos('casos_fallecidos')"
   ]
  },
  {
   "cell_type": "code",
   "execution_count": 7,
   "id": "9bc869d7-1da6-4afa-a075-a50050d99e45",
   "metadata": {
    "ExecuteTime": {
     "start_time": "2023-04-14T12:52:37.954690Z",
     "end_time": "2023-04-14T12:52:40.798793Z"
    }
   },
   "outputs": [
    {
     "name": "stderr",
     "output_type": "stream",
     "text": [
      "C:\\Users\\pport\\OneDrive\\Projects\\Covid-19\\scripts\\covid_functions.py:198: DtypeWarning: Columns (8) have mixed types. Specify dtype option on import or set low_memory=False.\n",
      "  data_deaths = pd.read_csv('fallecidos_covid.csv', delimiter = ';')\n",
      "C:\\Users\\pport\\OneDrive\\Projects\\Covid-19\\scripts\\covid_functions.py:214: UserWarning: Parsing dates in DD/MM/YYYY format when dayfirst=False (the default) was specified. This may lead to inconsistently parsed dates! Specify a format to ensure consistent parsing.\n",
      "  data_deaths['DATE_DEATH'] = pd.to_datetime(data_deaths['DATE_DEATH'])\n"
     ]
    }
   ],
   "source": [
    "covid.fallecidos_region('amazonas')"
   ]
  },
  {
   "cell_type": "code",
   "execution_count": 8,
   "id": "02040e52-adb8-4d21-b09d-06391f47f596",
   "metadata": {
    "ExecuteTime": {
     "start_time": "2023-04-14T12:52:40.801857Z",
     "end_time": "2023-04-14T12:52:43.330402Z"
    }
   },
   "outputs": [
    {
     "name": "stderr",
     "output_type": "stream",
     "text": [
      "C:\\Users\\pport\\OneDrive\\Projects\\Covid-19\\scripts\\covid_functions.py:198: DtypeWarning: Columns (8) have mixed types. Specify dtype option on import or set low_memory=False.\n",
      "  data_deaths = pd.read_csv('fallecidos_covid.csv', delimiter = ';')\n",
      "C:\\Users\\pport\\OneDrive\\Projects\\Covid-19\\scripts\\covid_functions.py:214: UserWarning: Parsing dates in DD/MM/YYYY format when dayfirst=False (the default) was specified. This may lead to inconsistently parsed dates! Specify a format to ensure consistent parsing.\n",
      "  data_deaths['DATE_DEATH'] = pd.to_datetime(data_deaths['DATE_DEATH'])\n"
     ]
    }
   ],
   "source": [
    "covid.fallecidos_region('ancash')"
   ]
  },
  {
   "cell_type": "code",
   "execution_count": 9,
   "id": "98837c02-d894-4dd0-8ed0-49393059c0ae",
   "metadata": {
    "ExecuteTime": {
     "start_time": "2023-04-14T12:52:43.331403Z",
     "end_time": "2023-04-14T12:52:45.722003Z"
    }
   },
   "outputs": [
    {
     "name": "stderr",
     "output_type": "stream",
     "text": [
      "C:\\Users\\pport\\OneDrive\\Projects\\Covid-19\\scripts\\covid_functions.py:198: DtypeWarning: Columns (8) have mixed types. Specify dtype option on import or set low_memory=False.\n",
      "  data_deaths = pd.read_csv('fallecidos_covid.csv', delimiter = ';')\n",
      "C:\\Users\\pport\\OneDrive\\Projects\\Covid-19\\scripts\\covid_functions.py:214: UserWarning: Parsing dates in DD/MM/YYYY format when dayfirst=False (the default) was specified. This may lead to inconsistently parsed dates! Specify a format to ensure consistent parsing.\n",
      "  data_deaths['DATE_DEATH'] = pd.to_datetime(data_deaths['DATE_DEATH'])\n"
     ]
    }
   ],
   "source": [
    "covid.fallecidos_region('apurimac')"
   ]
  },
  {
   "cell_type": "code",
   "execution_count": 10,
   "id": "055c405a-34a5-4c88-9586-536040938d40",
   "metadata": {
    "ExecuteTime": {
     "start_time": "2023-04-14T12:52:45.724005Z",
     "end_time": "2023-04-14T12:52:47.891390Z"
    }
   },
   "outputs": [
    {
     "name": "stderr",
     "output_type": "stream",
     "text": [
      "C:\\Users\\pport\\OneDrive\\Projects\\Covid-19\\scripts\\covid_functions.py:198: DtypeWarning: Columns (8) have mixed types. Specify dtype option on import or set low_memory=False.\n",
      "  data_deaths = pd.read_csv('fallecidos_covid.csv', delimiter = ';')\n",
      "C:\\Users\\pport\\OneDrive\\Projects\\Covid-19\\scripts\\covid_functions.py:214: UserWarning: Parsing dates in DD/MM/YYYY format when dayfirst=False (the default) was specified. This may lead to inconsistently parsed dates! Specify a format to ensure consistent parsing.\n",
      "  data_deaths['DATE_DEATH'] = pd.to_datetime(data_deaths['DATE_DEATH'])\n"
     ]
    }
   ],
   "source": [
    "covid.fallecidos_region('arequipa')"
   ]
  },
  {
   "cell_type": "code",
   "execution_count": 11,
   "id": "55edd985-70f5-437f-b546-01620cfa04ac",
   "metadata": {
    "ExecuteTime": {
     "start_time": "2023-04-14T12:52:47.894397Z",
     "end_time": "2023-04-14T12:52:50.405685Z"
    }
   },
   "outputs": [
    {
     "name": "stderr",
     "output_type": "stream",
     "text": [
      "C:\\Users\\pport\\OneDrive\\Projects\\Covid-19\\scripts\\covid_functions.py:198: DtypeWarning: Columns (8) have mixed types. Specify dtype option on import or set low_memory=False.\n",
      "  data_deaths = pd.read_csv('fallecidos_covid.csv', delimiter = ';')\n",
      "C:\\Users\\pport\\OneDrive\\Projects\\Covid-19\\scripts\\covid_functions.py:214: UserWarning: Parsing dates in DD/MM/YYYY format when dayfirst=False (the default) was specified. This may lead to inconsistently parsed dates! Specify a format to ensure consistent parsing.\n",
      "  data_deaths['DATE_DEATH'] = pd.to_datetime(data_deaths['DATE_DEATH'])\n"
     ]
    }
   ],
   "source": [
    "covid.fallecidos_region('ayacucho')"
   ]
  },
  {
   "cell_type": "code",
   "execution_count": 12,
   "id": "8c19e628-38b8-426b-99e7-6cefd315c660",
   "metadata": {
    "ExecuteTime": {
     "start_time": "2023-04-14T12:52:50.405685Z",
     "end_time": "2023-04-14T12:52:53.652124Z"
    }
   },
   "outputs": [
    {
     "name": "stderr",
     "output_type": "stream",
     "text": [
      "C:\\Users\\pport\\OneDrive\\Projects\\Covid-19\\scripts\\covid_functions.py:198: DtypeWarning: Columns (8) have mixed types. Specify dtype option on import or set low_memory=False.\n",
      "  data_deaths = pd.read_csv('fallecidos_covid.csv', delimiter = ';')\n",
      "C:\\Users\\pport\\OneDrive\\Projects\\Covid-19\\scripts\\covid_functions.py:214: UserWarning: Parsing dates in DD/MM/YYYY format when dayfirst=False (the default) was specified. This may lead to inconsistently parsed dates! Specify a format to ensure consistent parsing.\n",
      "  data_deaths['DATE_DEATH'] = pd.to_datetime(data_deaths['DATE_DEATH'])\n"
     ]
    }
   ],
   "source": [
    "covid.fallecidos_region('cajamarca')"
   ]
  },
  {
   "cell_type": "code",
   "execution_count": 13,
   "id": "6a9eeb95-55dd-4d12-aca0-3453da3aa264",
   "metadata": {
    "ExecuteTime": {
     "start_time": "2023-04-14T12:52:53.652124Z",
     "end_time": "2023-04-14T12:52:56.936521Z"
    }
   },
   "outputs": [
    {
     "name": "stderr",
     "output_type": "stream",
     "text": [
      "C:\\Users\\pport\\OneDrive\\Projects\\Covid-19\\scripts\\covid_functions.py:198: DtypeWarning: Columns (8) have mixed types. Specify dtype option on import or set low_memory=False.\n",
      "  data_deaths = pd.read_csv('fallecidos_covid.csv', delimiter = ';')\n",
      "C:\\Users\\pport\\OneDrive\\Projects\\Covid-19\\scripts\\covid_functions.py:214: UserWarning: Parsing dates in DD/MM/YYYY format when dayfirst=False (the default) was specified. This may lead to inconsistently parsed dates! Specify a format to ensure consistent parsing.\n",
      "  data_deaths['DATE_DEATH'] = pd.to_datetime(data_deaths['DATE_DEATH'])\n"
     ]
    }
   ],
   "source": [
    "covid.fallecidos_region('callao')"
   ]
  },
  {
   "cell_type": "code",
   "execution_count": 14,
   "id": "a8f45fc3-65db-43ef-bf2f-2607c6ac3e5c",
   "metadata": {
    "ExecuteTime": {
     "start_time": "2023-04-14T12:52:56.936521Z",
     "end_time": "2023-04-14T12:52:59.016908Z"
    }
   },
   "outputs": [
    {
     "name": "stderr",
     "output_type": "stream",
     "text": [
      "C:\\Users\\pport\\OneDrive\\Projects\\Covid-19\\scripts\\covid_functions.py:198: DtypeWarning: Columns (8) have mixed types. Specify dtype option on import or set low_memory=False.\n",
      "  data_deaths = pd.read_csv('fallecidos_covid.csv', delimiter = ';')\n",
      "C:\\Users\\pport\\OneDrive\\Projects\\Covid-19\\scripts\\covid_functions.py:214: UserWarning: Parsing dates in DD/MM/YYYY format when dayfirst=False (the default) was specified. This may lead to inconsistently parsed dates! Specify a format to ensure consistent parsing.\n",
      "  data_deaths['DATE_DEATH'] = pd.to_datetime(data_deaths['DATE_DEATH'])\n"
     ]
    }
   ],
   "source": [
    "covid.fallecidos_region('cusco')"
   ]
  },
  {
   "cell_type": "code",
   "execution_count": 15,
   "id": "646e1d55-6f5b-405c-b00d-98218b817755",
   "metadata": {
    "ExecuteTime": {
     "start_time": "2023-04-14T12:52:59.016908Z",
     "end_time": "2023-04-14T12:53:01.806968Z"
    }
   },
   "outputs": [
    {
     "name": "stderr",
     "output_type": "stream",
     "text": [
      "C:\\Users\\pport\\OneDrive\\Projects\\Covid-19\\scripts\\covid_functions.py:198: DtypeWarning: Columns (8) have mixed types. Specify dtype option on import or set low_memory=False.\n",
      "  data_deaths = pd.read_csv('fallecidos_covid.csv', delimiter = ';')\n",
      "C:\\Users\\pport\\OneDrive\\Projects\\Covid-19\\scripts\\covid_functions.py:214: UserWarning: Parsing dates in DD/MM/YYYY format when dayfirst=False (the default) was specified. This may lead to inconsistently parsed dates! Specify a format to ensure consistent parsing.\n",
      "  data_deaths['DATE_DEATH'] = pd.to_datetime(data_deaths['DATE_DEATH'])\n"
     ]
    }
   ],
   "source": [
    "covid.fallecidos_region('huancavelica')"
   ]
  },
  {
   "cell_type": "code",
   "execution_count": 16,
   "id": "70867f40-3773-4d79-9f33-320951c19444",
   "metadata": {
    "ExecuteTime": {
     "start_time": "2023-04-14T12:53:01.806968Z",
     "end_time": "2023-04-14T12:53:04.912824Z"
    }
   },
   "outputs": [
    {
     "name": "stderr",
     "output_type": "stream",
     "text": [
      "C:\\Users\\pport\\OneDrive\\Projects\\Covid-19\\scripts\\covid_functions.py:198: DtypeWarning: Columns (8) have mixed types. Specify dtype option on import or set low_memory=False.\n",
      "  data_deaths = pd.read_csv('fallecidos_covid.csv', delimiter = ';')\n",
      "C:\\Users\\pport\\OneDrive\\Projects\\Covid-19\\scripts\\covid_functions.py:214: UserWarning: Parsing dates in DD/MM/YYYY format when dayfirst=False (the default) was specified. This may lead to inconsistently parsed dates! Specify a format to ensure consistent parsing.\n",
      "  data_deaths['DATE_DEATH'] = pd.to_datetime(data_deaths['DATE_DEATH'])\n"
     ]
    }
   ],
   "source": [
    "covid.fallecidos_region('huanuco')"
   ]
  },
  {
   "cell_type": "code",
   "execution_count": 17,
   "id": "6806e776-61e1-4d0a-b665-050919b6b491",
   "metadata": {
    "ExecuteTime": {
     "start_time": "2023-04-14T12:53:04.912824Z",
     "end_time": "2023-04-14T12:53:07.079659Z"
    }
   },
   "outputs": [
    {
     "name": "stderr",
     "output_type": "stream",
     "text": [
      "C:\\Users\\pport\\OneDrive\\Projects\\Covid-19\\scripts\\covid_functions.py:198: DtypeWarning: Columns (8) have mixed types. Specify dtype option on import or set low_memory=False.\n",
      "  data_deaths = pd.read_csv('fallecidos_covid.csv', delimiter = ';')\n",
      "C:\\Users\\pport\\OneDrive\\Projects\\Covid-19\\scripts\\covid_functions.py:214: UserWarning: Parsing dates in DD/MM/YYYY format when dayfirst=False (the default) was specified. This may lead to inconsistently parsed dates! Specify a format to ensure consistent parsing.\n",
      "  data_deaths['DATE_DEATH'] = pd.to_datetime(data_deaths['DATE_DEATH'])\n"
     ]
    }
   ],
   "source": [
    "covid.fallecidos_region('ica')"
   ]
  },
  {
   "cell_type": "code",
   "execution_count": 18,
   "id": "e4dee862-301f-41de-b5b6-d0fa70652c5f",
   "metadata": {
    "ExecuteTime": {
     "start_time": "2023-04-14T12:53:07.079659Z",
     "end_time": "2023-04-14T12:53:09.562679Z"
    }
   },
   "outputs": [
    {
     "name": "stderr",
     "output_type": "stream",
     "text": [
      "C:\\Users\\pport\\OneDrive\\Projects\\Covid-19\\scripts\\covid_functions.py:198: DtypeWarning: Columns (8) have mixed types. Specify dtype option on import or set low_memory=False.\n",
      "  data_deaths = pd.read_csv('fallecidos_covid.csv', delimiter = ';')\n",
      "C:\\Users\\pport\\OneDrive\\Projects\\Covid-19\\scripts\\covid_functions.py:214: UserWarning: Parsing dates in DD/MM/YYYY format when dayfirst=False (the default) was specified. This may lead to inconsistently parsed dates! Specify a format to ensure consistent parsing.\n",
      "  data_deaths['DATE_DEATH'] = pd.to_datetime(data_deaths['DATE_DEATH'])\n"
     ]
    }
   ],
   "source": [
    "covid.fallecidos_region('junin')"
   ]
  },
  {
   "cell_type": "code",
   "execution_count": 19,
   "id": "2aa90fd5-d9d2-42f3-8d4a-428f93ed3289",
   "metadata": {
    "ExecuteTime": {
     "start_time": "2023-04-14T12:53:09.562679Z",
     "end_time": "2023-04-14T12:53:12.390005Z"
    }
   },
   "outputs": [
    {
     "name": "stderr",
     "output_type": "stream",
     "text": [
      "C:\\Users\\pport\\OneDrive\\Projects\\Covid-19\\scripts\\covid_functions.py:198: DtypeWarning: Columns (8) have mixed types. Specify dtype option on import or set low_memory=False.\n",
      "  data_deaths = pd.read_csv('fallecidos_covid.csv', delimiter = ';')\n",
      "C:\\Users\\pport\\OneDrive\\Projects\\Covid-19\\scripts\\covid_functions.py:214: UserWarning: Parsing dates in DD/MM/YYYY format when dayfirst=False (the default) was specified. This may lead to inconsistently parsed dates! Specify a format to ensure consistent parsing.\n",
      "  data_deaths['DATE_DEATH'] = pd.to_datetime(data_deaths['DATE_DEATH'])\n"
     ]
    }
   ],
   "source": [
    "covid.fallecidos_region('la libertad')"
   ]
  },
  {
   "cell_type": "code",
   "execution_count": 20,
   "id": "075448d3-3a5a-4b8e-8c12-de88cb661363",
   "metadata": {
    "ExecuteTime": {
     "start_time": "2023-04-14T12:53:12.390005Z",
     "end_time": "2023-04-14T12:53:14.433765Z"
    }
   },
   "outputs": [
    {
     "name": "stderr",
     "output_type": "stream",
     "text": [
      "C:\\Users\\pport\\OneDrive\\Projects\\Covid-19\\scripts\\covid_functions.py:198: DtypeWarning: Columns (8) have mixed types. Specify dtype option on import or set low_memory=False.\n",
      "  data_deaths = pd.read_csv('fallecidos_covid.csv', delimiter = ';')\n",
      "C:\\Users\\pport\\OneDrive\\Projects\\Covid-19\\scripts\\covid_functions.py:214: UserWarning: Parsing dates in DD/MM/YYYY format when dayfirst=False (the default) was specified. This may lead to inconsistently parsed dates! Specify a format to ensure consistent parsing.\n",
      "  data_deaths['DATE_DEATH'] = pd.to_datetime(data_deaths['DATE_DEATH'])\n"
     ]
    }
   ],
   "source": [
    "covid.fallecidos_region('lambayeque')"
   ]
  },
  {
   "cell_type": "code",
   "execution_count": 21,
   "id": "4bc5ab1a-565a-49c2-925f-20b9ee4d8d56",
   "metadata": {
    "ExecuteTime": {
     "start_time": "2023-04-14T12:53:14.433765Z",
     "end_time": "2023-04-14T12:53:17.749000Z"
    }
   },
   "outputs": [
    {
     "name": "stderr",
     "output_type": "stream",
     "text": [
      "C:\\Users\\pport\\OneDrive\\Projects\\Covid-19\\scripts\\covid_functions.py:198: DtypeWarning: Columns (8) have mixed types. Specify dtype option on import or set low_memory=False.\n",
      "  data_deaths = pd.read_csv('fallecidos_covid.csv', delimiter = ';')\n",
      "C:\\Users\\pport\\OneDrive\\Projects\\Covid-19\\scripts\\covid_functions.py:214: UserWarning: Parsing dates in DD/MM/YYYY format when dayfirst=False (the default) was specified. This may lead to inconsistently parsed dates! Specify a format to ensure consistent parsing.\n",
      "  data_deaths['DATE_DEATH'] = pd.to_datetime(data_deaths['DATE_DEATH'])\n"
     ]
    }
   ],
   "source": [
    "covid.fallecidos_region('lima')"
   ]
  },
  {
   "cell_type": "code",
   "execution_count": 22,
   "id": "61557150-da4e-49d4-960c-b6ae693c1050",
   "metadata": {
    "ExecuteTime": {
     "start_time": "2023-04-14T12:53:17.754013Z",
     "end_time": "2023-04-14T12:53:21.373532Z"
    }
   },
   "outputs": [
    {
     "name": "stderr",
     "output_type": "stream",
     "text": [
      "C:\\Users\\pport\\OneDrive\\Projects\\Covid-19\\scripts\\covid_functions.py:198: DtypeWarning: Columns (8) have mixed types. Specify dtype option on import or set low_memory=False.\n",
      "  data_deaths = pd.read_csv('fallecidos_covid.csv', delimiter = ';')\n",
      "C:\\Users\\pport\\OneDrive\\Projects\\Covid-19\\scripts\\covid_functions.py:214: UserWarning: Parsing dates in DD/MM/YYYY format when dayfirst=False (the default) was specified. This may lead to inconsistently parsed dates! Specify a format to ensure consistent parsing.\n",
      "  data_deaths['DATE_DEATH'] = pd.to_datetime(data_deaths['DATE_DEATH'])\n"
     ]
    }
   ],
   "source": [
    "covid.fallecidos_region('loreto')"
   ]
  },
  {
   "cell_type": "code",
   "execution_count": 23,
   "id": "bb14cb92-9b82-427c-8110-cb1b9488d5fe",
   "metadata": {
    "ExecuteTime": {
     "start_time": "2023-04-14T12:53:21.373532Z",
     "end_time": "2023-04-14T12:53:24.698467Z"
    }
   },
   "outputs": [
    {
     "name": "stderr",
     "output_type": "stream",
     "text": [
      "C:\\Users\\pport\\OneDrive\\Projects\\Covid-19\\scripts\\covid_functions.py:198: DtypeWarning: Columns (8) have mixed types. Specify dtype option on import or set low_memory=False.\n",
      "  data_deaths = pd.read_csv('fallecidos_covid.csv', delimiter = ';')\n",
      "C:\\Users\\pport\\OneDrive\\Projects\\Covid-19\\scripts\\covid_functions.py:214: UserWarning: Parsing dates in DD/MM/YYYY format when dayfirst=False (the default) was specified. This may lead to inconsistently parsed dates! Specify a format to ensure consistent parsing.\n",
      "  data_deaths['DATE_DEATH'] = pd.to_datetime(data_deaths['DATE_DEATH'])\n"
     ]
    }
   ],
   "source": [
    "covid.fallecidos_region('madre de dios')"
   ]
  },
  {
   "cell_type": "code",
   "execution_count": 24,
   "id": "fc458291-022e-4b00-a888-d494ef1a5a23",
   "metadata": {
    "ExecuteTime": {
     "start_time": "2023-04-14T12:53:24.698467Z",
     "end_time": "2023-04-14T12:53:27.257363Z"
    }
   },
   "outputs": [
    {
     "name": "stderr",
     "output_type": "stream",
     "text": [
      "C:\\Users\\pport\\OneDrive\\Projects\\Covid-19\\scripts\\covid_functions.py:198: DtypeWarning: Columns (8) have mixed types. Specify dtype option on import or set low_memory=False.\n",
      "  data_deaths = pd.read_csv('fallecidos_covid.csv', delimiter = ';')\n",
      "C:\\Users\\pport\\OneDrive\\Projects\\Covid-19\\scripts\\covid_functions.py:214: UserWarning: Parsing dates in DD/MM/YYYY format when dayfirst=False (the default) was specified. This may lead to inconsistently parsed dates! Specify a format to ensure consistent parsing.\n",
      "  data_deaths['DATE_DEATH'] = pd.to_datetime(data_deaths['DATE_DEATH'])\n"
     ]
    }
   ],
   "source": [
    "covid.fallecidos_region('moquegua')"
   ]
  },
  {
   "cell_type": "code",
   "execution_count": 25,
   "id": "6913ec98-0892-48bc-b46f-4b781bf64aa9",
   "metadata": {
    "ExecuteTime": {
     "start_time": "2023-04-14T12:53:27.257363Z",
     "end_time": "2023-04-14T12:53:30.629549Z"
    }
   },
   "outputs": [
    {
     "name": "stderr",
     "output_type": "stream",
     "text": [
      "C:\\Users\\pport\\OneDrive\\Projects\\Covid-19\\scripts\\covid_functions.py:198: DtypeWarning: Columns (8) have mixed types. Specify dtype option on import or set low_memory=False.\n",
      "  data_deaths = pd.read_csv('fallecidos_covid.csv', delimiter = ';')\n",
      "C:\\Users\\pport\\OneDrive\\Projects\\Covid-19\\scripts\\covid_functions.py:214: UserWarning: Parsing dates in DD/MM/YYYY format when dayfirst=False (the default) was specified. This may lead to inconsistently parsed dates! Specify a format to ensure consistent parsing.\n",
      "  data_deaths['DATE_DEATH'] = pd.to_datetime(data_deaths['DATE_DEATH'])\n"
     ]
    }
   ],
   "source": [
    "covid.fallecidos_region('pasco')"
   ]
  },
  {
   "cell_type": "code",
   "execution_count": 26,
   "id": "d8049242-2a7e-4aba-a3fc-a1ca5e108f2c",
   "metadata": {
    "ExecuteTime": {
     "start_time": "2023-04-14T12:53:30.582662Z",
     "end_time": "2023-04-14T12:53:36.256916Z"
    }
   },
   "outputs": [
    {
     "name": "stderr",
     "output_type": "stream",
     "text": [
      "C:\\Users\\pport\\OneDrive\\Projects\\Covid-19\\scripts\\covid_functions.py:198: DtypeWarning: Columns (8) have mixed types. Specify dtype option on import or set low_memory=False.\n",
      "  data_deaths = pd.read_csv('fallecidos_covid.csv', delimiter = ';')\n",
      "C:\\Users\\pport\\OneDrive\\Projects\\Covid-19\\scripts\\covid_functions.py:214: UserWarning: Parsing dates in DD/MM/YYYY format when dayfirst=False (the default) was specified. This may lead to inconsistently parsed dates! Specify a format to ensure consistent parsing.\n",
      "  data_deaths['DATE_DEATH'] = pd.to_datetime(data_deaths['DATE_DEATH'])\n"
     ]
    }
   ],
   "source": [
    "covid.fallecidos_region('piura')"
   ]
  },
  {
   "cell_type": "code",
   "execution_count": 27,
   "id": "455de6b2-a28f-4168-9e0e-9606ea171f85",
   "metadata": {
    "ExecuteTime": {
     "start_time": "2023-04-14T12:53:36.242600Z",
     "end_time": "2023-04-14T12:53:43.758362Z"
    }
   },
   "outputs": [
    {
     "name": "stderr",
     "output_type": "stream",
     "text": [
      "C:\\Users\\pport\\OneDrive\\Projects\\Covid-19\\scripts\\covid_functions.py:198: DtypeWarning: Columns (8) have mixed types. Specify dtype option on import or set low_memory=False.\n",
      "  data_deaths = pd.read_csv('fallecidos_covid.csv', delimiter = ';')\n",
      "C:\\Users\\pport\\OneDrive\\Projects\\Covid-19\\scripts\\covid_functions.py:214: UserWarning: Parsing dates in DD/MM/YYYY format when dayfirst=False (the default) was specified. This may lead to inconsistently parsed dates! Specify a format to ensure consistent parsing.\n",
      "  data_deaths['DATE_DEATH'] = pd.to_datetime(data_deaths['DATE_DEATH'])\n"
     ]
    }
   ],
   "source": [
    "covid.fallecidos_region('puno')"
   ]
  },
  {
   "cell_type": "code",
   "execution_count": 28,
   "id": "4eb6bea8-3946-4336-8a60-7d80e4531aba",
   "metadata": {
    "ExecuteTime": {
     "start_time": "2023-04-14T12:53:43.749198Z",
     "end_time": "2023-04-14T12:53:48.096464Z"
    }
   },
   "outputs": [
    {
     "name": "stderr",
     "output_type": "stream",
     "text": [
      "C:\\Users\\pport\\OneDrive\\Projects\\Covid-19\\scripts\\covid_functions.py:198: DtypeWarning: Columns (8) have mixed types. Specify dtype option on import or set low_memory=False.\n",
      "  data_deaths = pd.read_csv('fallecidos_covid.csv', delimiter = ';')\n",
      "C:\\Users\\pport\\OneDrive\\Projects\\Covid-19\\scripts\\covid_functions.py:214: UserWarning: Parsing dates in DD/MM/YYYY format when dayfirst=False (the default) was specified. This may lead to inconsistently parsed dates! Specify a format to ensure consistent parsing.\n",
      "  data_deaths['DATE_DEATH'] = pd.to_datetime(data_deaths['DATE_DEATH'])\n"
     ]
    }
   ],
   "source": [
    "covid.fallecidos_region('san martin')"
   ]
  },
  {
   "cell_type": "code",
   "execution_count": 29,
   "id": "e8a4cb48-2294-40ed-9f9e-674666936752",
   "metadata": {
    "ExecuteTime": {
     "start_time": "2023-04-14T12:53:48.080426Z",
     "end_time": "2023-04-14T12:53:51.349509Z"
    }
   },
   "outputs": [
    {
     "name": "stderr",
     "output_type": "stream",
     "text": [
      "C:\\Users\\pport\\OneDrive\\Projects\\Covid-19\\scripts\\covid_functions.py:198: DtypeWarning: Columns (8) have mixed types. Specify dtype option on import or set low_memory=False.\n",
      "  data_deaths = pd.read_csv('fallecidos_covid.csv', delimiter = ';')\n",
      "C:\\Users\\pport\\OneDrive\\Projects\\Covid-19\\scripts\\covid_functions.py:214: UserWarning: Parsing dates in DD/MM/YYYY format when dayfirst=False (the default) was specified. This may lead to inconsistently parsed dates! Specify a format to ensure consistent parsing.\n",
      "  data_deaths['DATE_DEATH'] = pd.to_datetime(data_deaths['DATE_DEATH'])\n"
     ]
    }
   ],
   "source": [
    "covid.fallecidos_region('tacna')"
   ]
  },
  {
   "cell_type": "code",
   "execution_count": 30,
   "id": "10dc0e28-ed6c-4d7e-856d-2925367ec3f8",
   "metadata": {
    "ExecuteTime": {
     "start_time": "2023-04-14T12:53:51.349509Z",
     "end_time": "2023-04-14T12:53:54.006043Z"
    }
   },
   "outputs": [
    {
     "name": "stderr",
     "output_type": "stream",
     "text": [
      "C:\\Users\\pport\\OneDrive\\Projects\\Covid-19\\scripts\\covid_functions.py:198: DtypeWarning: Columns (8) have mixed types. Specify dtype option on import or set low_memory=False.\n",
      "  data_deaths = pd.read_csv('fallecidos_covid.csv', delimiter = ';')\n",
      "C:\\Users\\pport\\OneDrive\\Projects\\Covid-19\\scripts\\covid_functions.py:214: UserWarning: Parsing dates in DD/MM/YYYY format when dayfirst=False (the default) was specified. This may lead to inconsistently parsed dates! Specify a format to ensure consistent parsing.\n",
      "  data_deaths['DATE_DEATH'] = pd.to_datetime(data_deaths['DATE_DEATH'])\n"
     ]
    }
   ],
   "source": [
    "covid.fallecidos_region('tumbes')"
   ]
  },
  {
   "cell_type": "code",
   "execution_count": 31,
   "id": "0d053e5e-d659-4a78-9a47-d728a06107a1",
   "metadata": {
    "ExecuteTime": {
     "start_time": "2023-04-14T12:53:54.006043Z",
     "end_time": "2023-04-14T12:53:55.999664Z"
    }
   },
   "outputs": [
    {
     "name": "stderr",
     "output_type": "stream",
     "text": [
      "C:\\Users\\pport\\OneDrive\\Projects\\Covid-19\\scripts\\covid_functions.py:198: DtypeWarning: Columns (8) have mixed types. Specify dtype option on import or set low_memory=False.\n",
      "  data_deaths = pd.read_csv('fallecidos_covid.csv', delimiter = ';')\n",
      "C:\\Users\\pport\\OneDrive\\Projects\\Covid-19\\scripts\\covid_functions.py:214: UserWarning: Parsing dates in DD/MM/YYYY format when dayfirst=False (the default) was specified. This may lead to inconsistently parsed dates! Specify a format to ensure consistent parsing.\n",
      "  data_deaths['DATE_DEATH'] = pd.to_datetime(data_deaths['DATE_DEATH'])\n"
     ]
    }
   ],
   "source": [
    "covid.fallecidos_region('ucayali')"
   ]
  }
 ],
 "metadata": {
  "kernelspec": {
   "display_name": "Python 3 (ipykernel)",
   "language": "python",
   "name": "python3"
  },
  "language_info": {
   "codemirror_mode": {
    "name": "ipython",
    "version": 3
   },
   "file_extension": ".py",
   "mimetype": "text/x-python",
   "name": "python",
   "nbconvert_exporter": "python",
   "pygments_lexer": "ipython3",
   "version": "3.9.12"
  },
  "vscode": {
   "interpreter": {
    "hash": "b16035391e6d15f42e961d15e8d80705044948f1497ed0c48969644a26688a27"
   }
  }
 },
 "nbformat": 4,
 "nbformat_minor": 5
}
