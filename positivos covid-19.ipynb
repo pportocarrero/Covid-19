{
 "cells": [
  {
   "cell_type": "code",
   "execution_count": 59,
   "id": "7c412f32",
   "metadata": {},
   "outputs": [],
   "source": [
    "# LIBRARIES\n",
    "\n",
    "import pandas as pd\n",
    "import os\n",
    "import requests\n",
    "import csv\n",
    "from datetime import datetime\n",
    "import matplotlib.pyplot as plt"
   ]
  },
  {
   "cell_type": "code",
   "execution_count": 60,
   "id": "e33c5c9b",
   "metadata": {},
   "outputs": [
    {
     "name": "stdout",
     "output_type": "stream",
     "text": [
      "Current working directory: C:\\Users\\pport\\OneDrive\\Projects\\Covid-19\n"
     ]
    }
   ],
   "source": [
    "# CONFIG\n",
    "\n",
    "os.chdir('C:/Users/pport/OneDrive/Projects/Covid-19/') # For Win\n",
    "\n",
    "#os.chdir('/Users/pportocarrero/OneDrive/Projects/Covid-19/') # For MacOS\n",
    "\n",
    "print(\"Current working directory: {0}\".format(os.getcwd()))"
   ]
  },
  {
   "cell_type": "code",
   "execution_count": 61,
   "id": "4e0cc218",
   "metadata": {},
   "outputs": [],
   "source": [
    "# GET NEW DATA\n",
    "\n",
    "req = requests.get('https://cloud.minsa.gob.pe/s/AC2adyLkHCKjmfm/download')\n",
    "url_content = req.content\n",
    "csv_file = open('positivos_covid.csv', 'wb')\n",
    "csv_file.write(url_content)\n",
    "csv_file.close()\n",
    "\n",
    "# DATA CONFIG\n",
    "\n",
    "data = pd.read_csv('positivos_covid.csv', delimiter = ';')\n",
    "\n",
    "data['FECHA_RESULTADO'] = data['FECHA_RESULTADO'].astype(float, errors = 'raise')\n",
    "\n",
    "nan_values = data['FECHA_RESULTADO'].isna().sum()\n",
    "\n",
    "data['FECHA_RESULTADO'] = data['FECHA_RESULTADO'].fillna('20211231') # NaN values are assigned to 31/12/2021\n",
    "\n",
    "data['FECHA_RESULTADO'] = data['FECHA_RESULTADO'].astype(float, errors = 'raise')\n",
    "\n",
    "data['FECHA_RESULTADO'] = data['FECHA_RESULTADO'].map('{:.0f}'.format)\n",
    "\n",
    "data['FECHA_RESULTADO'] = data['FECHA_RESULTADO'] * 1\n",
    "\n",
    "# WRANGLING\n",
    "\n",
    "data['YEAR'] = data['FECHA_RESULTADO'].str[2:4]\n",
    "\n",
    "data['MONTH'] = data['FECHA_RESULTADO'].str[4:6]\n",
    "\n",
    "data['DAY'] = data['FECHA_RESULTADO'].str[6:8]\n",
    "\n",
    "data['DATE'] = data['DAY'] + '/' + data['MONTH'] + '/' + data['YEAR']\n",
    "\n",
    "data['DATE'] = pd.to_datetime(data['DATE'])\n",
    "\n",
    "data['DATE'] = pd.to_datetime(data['DATE']).dt.strftime('%d/%m/%y')\n",
    "\n",
    "data[\"DATE\"] = data[\"DATE\"].astype(\"datetime64\")\n"
   ]
  },
  {
   "cell_type": "code",
   "execution_count": 62,
   "id": "031ea884",
   "metadata": {},
   "outputs": [],
   "source": [
    "# CREATING AGGREGATES\n",
    "\n",
    "aggregate = data.groupby(['DATE']).size()\n",
    "\n",
    "last_value = aggregate.iloc[-1]\n",
    "\n",
    "data['time'] = pd.to_datetime(data['DATE'])\n",
    "date = data['time'].dt.date\n",
    "date = date.drop_duplicates()\n",
    "date = date.astype(\"datetime64\")\n",
    "date = date.sort_values(ascending=True)\n",
    "\n",
    "df_aggregate = pd.DataFrame({'casos': aggregate, 'fecha': pd.date_range('03/06/20', periods = len(aggregate))})\n",
    "\n",
    "df_aggregate.to_excel('C:/Users/pport/OneDrive/Projects/Covid-19/casos_positivos.xlsx')"
   ]
  },
  {
   "cell_type": "code",
   "execution_count": 63,
   "id": "671882de",
   "metadata": {},
   "outputs": [],
   "source": [
    "# AMAZONAS\n",
    "\n",
    "casos_ama = data[data['DEPARTAMENTO'] == 'AMAZONAS']\n",
    "\n",
    "aggregate_ama = casos_ama.groupby(['DATE']).size()\n",
    "\n",
    "df_aggregate_ama = pd.DataFrame({'casos': aggregate_ama})\n",
    "\n",
    "df_aggregate_ama.to_excel('C:/Users/pport/OneDrive/Projects/Covid-19/regiones/casos_amazonas.xlsx')"
   ]
  },
  {
   "cell_type": "code",
   "execution_count": 64,
   "id": "4ac07e4f",
   "metadata": {},
   "outputs": [],
   "source": [
    "# ANCASH\n",
    "\n",
    "casos_anc = data[data['DEPARTAMENTO'] == 'ANCASH']\n",
    "\n",
    "aggregate_anc = casos_anc.groupby(['DATE']).size()\n",
    "\n",
    "df_aggregate_anc = pd.DataFrame({'casos': aggregate_anc})\n",
    "\n",
    "df_aggregate_anc.to_excel('C:/Users/pport/OneDrive/Projects/Covid-19/regiones/casos_ancash.xlsx')"
   ]
  },
  {
   "cell_type": "code",
   "execution_count": 65,
   "id": "1c08535a",
   "metadata": {},
   "outputs": [],
   "source": [
    "# APURIMAC\n",
    "\n",
    "casos_apu = data[data['DEPARTAMENTO'] == 'APURIMAC']\n",
    "\n",
    "aggregate_apu = casos_apu.groupby(['DATE']).size()\n",
    "\n",
    "df_aggregate_apu = pd.DataFrame({'casos': aggregate_apu})\n",
    "\n",
    "df_aggregate_apu.to_excel('C:/Users/pport/OneDrive/Projects/Covid-19/regiones/casos_apurimac.xlsx')"
   ]
  },
  {
   "cell_type": "code",
   "execution_count": 66,
   "id": "8499c466",
   "metadata": {},
   "outputs": [],
   "source": [
    "# AREQUIPA\n",
    "\n",
    "casos_are = data[data['DEPARTAMENTO'] == 'AREQUIPA']\n",
    "\n",
    "aggregate_are = casos_are.groupby(['DATE']).size()\n",
    "\n",
    "df_aggregate_are = pd.DataFrame({'casos': aggregate_are})\n",
    "\n",
    "df_aggregate_are.to_excel('C:/Users/pport/OneDrive/Projects/Covid-19/regiones/casos_arequipa.xlsx')"
   ]
  },
  {
   "cell_type": "code",
   "execution_count": 67,
   "id": "58b3660c",
   "metadata": {},
   "outputs": [],
   "source": [
    "# AYACUCHO\n",
    "\n",
    "casos_aya = data[data['DEPARTAMENTO'] == 'AYACUCHO']\n",
    "\n",
    "aggregate_aya = casos_aya.groupby(['DATE']).size()\n",
    "\n",
    "df_aggregate_aya = pd.DataFrame({'casos': aggregate_aya})\n",
    "\n",
    "df_aggregate_aya.to_excel('C:/Users/pport/OneDrive/Projects/Covid-19/regiones/casos_ayacucho.xlsx')"
   ]
  },
  {
   "cell_type": "code",
   "execution_count": 68,
   "id": "95910fd9",
   "metadata": {},
   "outputs": [],
   "source": [
    "# CAJAMARCA\n",
    "\n",
    "casos_caj = data[data['DEPARTAMENTO'] == 'CAJAMARCA']\n",
    "\n",
    "aggregate_caj = casos_caj.groupby(['DATE']).size()\n",
    "\n",
    "df_aggregate_caj = pd.DataFrame({'casos': aggregate_caj})\n",
    "\n",
    "df_aggregate_caj.to_excel('C:/Users/pport/OneDrive/Projects/Covid-19/regiones/casos_cajamarca.xlsx')"
   ]
  },
  {
   "cell_type": "code",
   "execution_count": 69,
   "id": "1abdd2fb",
   "metadata": {},
   "outputs": [],
   "source": [
    "# CALLAO\n",
    "\n",
    "casos_cal = data[data['DEPARTAMENTO'] == 'CALLAO']\n",
    "\n",
    "aggregate_cal = casos_cal.groupby(['DATE']).size()\n",
    "\n",
    "df_aggregate_cal = pd.DataFrame({'casos': aggregate_cal})\n",
    "\n",
    "df_aggregate_cal.to_excel('C:/Users/pport/OneDrive/Projects/Covid-19/regiones/casos_callao.xlsx')"
   ]
  },
  {
   "cell_type": "code",
   "execution_count": 70,
   "id": "702662bc",
   "metadata": {},
   "outputs": [],
   "source": [
    "# CUSCO\n",
    "\n",
    "casos_cus= data[data['DEPARTAMENTO'] == 'CUSCO']\n",
    "\n",
    "aggregate_cus = casos_cus.groupby(['DATE']).size()\n",
    "\n",
    "df_aggregate_cus = pd.DataFrame({'casos': aggregate_cus})\n",
    "\n",
    "df_aggregate_cus.to_excel('C:/Users/pport/OneDrive/Projects/Covid-19/regiones/casos_cusco.xlsx')"
   ]
  },
  {
   "cell_type": "code",
   "execution_count": 71,
   "id": "f4f2327a",
   "metadata": {},
   "outputs": [],
   "source": [
    "# HUANCAVELICA\n",
    "\n",
    "casos_hlv = data[data['DEPARTAMENTO'] == 'HUANCAVELICA']\n",
    "\n",
    "aggregate_hlv = casos_hlv.groupby(['DATE']).size()\n",
    "\n",
    "df_aggregate_hlv = pd.DataFrame({'casos': aggregate_hlv})\n",
    "\n",
    "df_aggregate_hlv.to_excel('C:/Users/pport/OneDrive/Projects/Covid-19/regiones/casos_huancavelica.xlsx')"
   ]
  },
  {
   "cell_type": "code",
   "execution_count": 72,
   "id": "69b6528b",
   "metadata": {},
   "outputs": [],
   "source": [
    "# HUANUCO\n",
    "\n",
    "casos_hua = data[data['DEPARTAMENTO'] == 'HUANUCO']\n",
    "\n",
    "aggregate_hua = casos_hua.groupby(['DATE']).size()\n",
    "\n",
    "df_aggregate_hua = pd.DataFrame({'casos': aggregate_hua})\n",
    "\n",
    "df_aggregate_hua.to_excel('C:/Users/pport/OneDrive/Projects/Covid-19/regiones/casos_huanuco.xlsx')"
   ]
  },
  {
   "cell_type": "code",
   "execution_count": 73,
   "id": "71e94515",
   "metadata": {},
   "outputs": [],
   "source": [
    "# ICA\n",
    "\n",
    "casos_ica = data[data['DEPARTAMENTO'] == 'ICA']\n",
    "\n",
    "aggregate_ica = casos_ica.groupby(['DATE']).size()\n",
    "\n",
    "df_aggregate_ica = pd.DataFrame({'casos': aggregate_ica})\n",
    "\n",
    "df_aggregate_ica.to_excel('C:/Users/pport/OneDrive/Projects/Covid-19/regiones/casos_ica.xlsx')"
   ]
  },
  {
   "cell_type": "code",
   "execution_count": 74,
   "id": "0c960aef",
   "metadata": {},
   "outputs": [],
   "source": [
    "# JUNIN\n",
    "\n",
    "casos_jun = data[data['DEPARTAMENTO'] == 'JUNIN']\n",
    "\n",
    "aggregate_jun = casos_jun.groupby(['DATE']).size()\n",
    "\n",
    "df_aggregate_jun = pd.DataFrame({'casos': aggregate_jun})\n",
    "\n",
    "df_aggregate_jun.to_excel('C:/Users/pport/OneDrive/Projects/Covid-19/regiones/casos_junin.xlsx')"
   ]
  },
  {
   "cell_type": "code",
   "execution_count": 75,
   "id": "d8cc5f13",
   "metadata": {},
   "outputs": [],
   "source": [
    "# LA LIBERTAD\n",
    "\n",
    "casos_lal = data[data['DEPARTAMENTO'] == 'LA LIBERTAD']\n",
    "\n",
    "aggregate_lal = casos_lal.groupby(['DATE']).size()\n",
    "\n",
    "df_aggregate_lal = pd.DataFrame({'casos': aggregate_lal})\n",
    "\n",
    "df_aggregate_lal.to_excel('C:/Users/pport/OneDrive/Projects/Covid-19/regiones/casos_lalibertad.xlsx')"
   ]
  },
  {
   "cell_type": "code",
   "execution_count": 76,
   "id": "56afc636",
   "metadata": {},
   "outputs": [],
   "source": [
    "# LAMBAYEQUE\n",
    "\n",
    "casos_lam = data[data['DEPARTAMENTO'] == 'LAMBAYEQUE']\n",
    "\n",
    "aggregate_lam = casos_lam.groupby(['DATE']).size()\n",
    "\n",
    "df_aggregate_lam = pd.DataFrame({'casos': aggregate_lam})\n",
    "\n",
    "df_aggregate_lam.to_excel('C:/Users/pport/OneDrive/Projects/Covid-19/regiones/casos_lambayeque.xlsx')"
   ]
  },
  {
   "cell_type": "code",
   "execution_count": 77,
   "id": "308fa8cc",
   "metadata": {},
   "outputs": [],
   "source": [
    "# LIMA\n",
    "\n",
    "casos_lim = data[data['DEPARTAMENTO'] == 'LIMA']\n",
    "\n",
    "aggregate_lim = casos_lim.groupby(['DATE']).size()\n",
    "\n",
    "df_aggregate_lim = pd.DataFrame({'casos': aggregate_lim})\n",
    "\n",
    "df_aggregate_lim.to_excel('C:/Users/pport/OneDrive/Projects/Covid-19/regiones/casos_lima.xlsx')"
   ]
  },
  {
   "cell_type": "code",
   "execution_count": 78,
   "id": "61bc83ea",
   "metadata": {},
   "outputs": [],
   "source": [
    "# LORETO\n",
    "\n",
    "casos_lor = data[data['DEPARTAMENTO'] == 'LORETO']\n",
    "\n",
    "aggregate_lor = casos_lor.groupby(['DATE']).size()\n",
    "\n",
    "df_aggregate_lor = pd.DataFrame({'casos': aggregate_lor})\n",
    "\n",
    "df_aggregate_lor.to_excel('C:/Users/pport/OneDrive/Projects/Covid-19/regiones/casos_loreto.xlsx')"
   ]
  },
  {
   "cell_type": "code",
   "execution_count": 79,
   "id": "3f4307f9",
   "metadata": {},
   "outputs": [],
   "source": [
    "# MADRE DE DIOS\n",
    "\n",
    "casos_mad = data[data['DEPARTAMENTO'] == 'MADRE DE DIOS']\n",
    "\n",
    "aggregate_mad = casos_mad.groupby(['DATE']).size()\n",
    "\n",
    "df_aggregate_mad = pd.DataFrame({'casos': aggregate_mad})\n",
    "\n",
    "df_aggregate_mad.to_excel('C:/Users/pport/OneDrive/Projects/Covid-19/regiones/casos_madrededios.xlsx')"
   ]
  },
  {
   "cell_type": "code",
   "execution_count": 80,
   "id": "b6754d57",
   "metadata": {},
   "outputs": [],
   "source": [
    "# MOQUEGUA\n",
    "\n",
    "casos_moq = data[data['DEPARTAMENTO'] == 'MOQUEGUA']\n",
    "\n",
    "aggregate_moq = casos_moq.groupby(['DATE']).size()\n",
    "\n",
    "df_aggregate_moq = pd.DataFrame({'casos': aggregate_moq})\n",
    "\n",
    "df_aggregate_moq.to_excel('C:/Users/pport/OneDrive/Projects/Covid-19/regiones/casos_moquegua.xlsx')"
   ]
  },
  {
   "cell_type": "code",
   "execution_count": 81,
   "id": "6bd68039",
   "metadata": {},
   "outputs": [],
   "source": [
    "# PASCO\n",
    "\n",
    "casos_pas = data[data['DEPARTAMENTO'] == 'PASCO']\n",
    "\n",
    "aggregate_pas = casos_pas.groupby(['DATE']).size()\n",
    "\n",
    "df_aggregate_pas = pd.DataFrame({'casos': aggregate_pas})\n",
    "\n",
    "df_aggregate_pas.to_excel('C:/Users/pport/OneDrive/Projects/Covid-19/regiones/casos_pasco.xlsx')"
   ]
  },
  {
   "cell_type": "code",
   "execution_count": 82,
   "id": "993cc55a",
   "metadata": {},
   "outputs": [],
   "source": [
    "# PIURA\n",
    "\n",
    "casos_piu = data[data['DEPARTAMENTO'] == 'PIURA']\n",
    "\n",
    "aggregate_piu = casos_piu.groupby(['DATE']).size()\n",
    "\n",
    "df_aggregate_piu = pd.DataFrame({'casos': aggregate_piu})\n",
    "\n",
    "df_aggregate_piu.to_excel('C:/Users/pport/OneDrive/Projects/Covid-19/regiones/casos_piura.xlsx')"
   ]
  },
  {
   "cell_type": "code",
   "execution_count": 83,
   "id": "adbb397d",
   "metadata": {},
   "outputs": [],
   "source": [
    "# PUNO\n",
    "\n",
    "casos_pun = data[data['DEPARTAMENTO'] == 'PUNO']\n",
    "\n",
    "aggregate_pun = casos_pun.groupby(['DATE']).size()\n",
    "\n",
    "df_aggregate_pun = pd.DataFrame({'casos': aggregate_pun})\n",
    "\n",
    "df_aggregate_pun.to_excel('C:/Users/pport/OneDrive/Projects/Covid-19/regiones/casos_puno.xlsx')"
   ]
  },
  {
   "cell_type": "code",
   "execution_count": 84,
   "id": "821825fa",
   "metadata": {},
   "outputs": [],
   "source": [
    "# SAN MARTÍN\n",
    "\n",
    "casos_san = data[data['DEPARTAMENTO'] == 'SAN MARTIN']\n",
    "\n",
    "aggregate_san = casos_san.groupby(['DATE']).size()\n",
    "\n",
    "df_aggregate_san = pd.DataFrame({'casos': aggregate_san})\n",
    "\n",
    "df_aggregate_san.to_excel('C:/Users/pport/OneDrive/Projects/Covid-19/regiones/casos_sanmartin.xlsx')"
   ]
  },
  {
   "cell_type": "code",
   "execution_count": 85,
   "id": "5fb405b1",
   "metadata": {
    "tags": []
   },
   "outputs": [],
   "source": [
    "# TACNA\n",
    "\n",
    "casos_tac = data[data['DEPARTAMENTO'] == 'TACNA']\n",
    "\n",
    "aggregate_tac = casos_tac.groupby(['DATE']).size()\n",
    "\n",
    "df_aggregate_tac = pd.DataFrame({'casos': aggregate_tac})\n",
    "\n",
    "df_aggregate_tac.to_excel('C:/Users/pport/OneDrive/Projects/Covid-19/regiones/casos_tacna.xlsx')"
   ]
  },
  {
   "cell_type": "code",
   "execution_count": 86,
   "id": "ed7f70fb",
   "metadata": {},
   "outputs": [],
   "source": [
    "# TUMBES\n",
    "\n",
    "casos_tum = data[data['DEPARTAMENTO'] == 'TUMBES']\n",
    "\n",
    "aggregate_tum = casos_tum.groupby(['DATE']).size()\n",
    "\n",
    "df_aggregate_tum = pd.DataFrame({'casos': aggregate_tum})\n",
    "\n",
    "df_aggregate_tum.to_excel('C:/Users/pport/OneDrive/Projects/Covid-19/regiones/casos_tumbes.xlsx')"
   ]
  },
  {
   "cell_type": "code",
   "execution_count": 87,
   "id": "a1defc26",
   "metadata": {},
   "outputs": [],
   "source": [
    "# UCAYALI\n",
    "\n",
    "casos_uca = data[data['DEPARTAMENTO'] == 'UCAYALI']\n",
    "\n",
    "aggregate_uca = casos_uca.groupby(['DATE']).size()\n",
    "\n",
    "df_aggregate_uca = pd.DataFrame({'casos': aggregate_uca})\n",
    "\n",
    "df_aggregate_uca.to_excel('C:/Users/pport/OneDrive/Projects/Covid-19/regiones/casos_ucayali.xlsx')"
   ]
  }
 ],
 "metadata": {
  "kernelspec": {
   "display_name": "Python 3 (ipykernel)",
   "language": "python",
   "name": "python3"
  },
  "language_info": {
   "codemirror_mode": {
    "name": "ipython",
    "version": 3
   },
   "file_extension": ".py",
   "mimetype": "text/x-python",
   "name": "python",
   "nbconvert_exporter": "python",
   "pygments_lexer": "ipython3",
   "version": "3.9.7"
  }
 },
 "nbformat": 4,
 "nbformat_minor": 5
}