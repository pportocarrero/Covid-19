{
 "cells": [
  {
   "cell_type": "code",
   "execution_count": 146,
   "id": "5d05f208",
   "metadata": {},
   "outputs": [],
   "source": [
    "# LIBRARIES AND CONFIG\n",
    "\n",
    "import pandas as pd\n",
    "import os\n",
    "import requests\n",
    "import csv\n",
    "from datetime import datetime\n",
    "import matplotlib.pyplot as plt"
   ]
  },
  {
   "cell_type": "code",
   "execution_count": 147,
   "id": "7934c209",
   "metadata": {},
   "outputs": [
    {
     "name": "stdout",
     "output_type": "stream",
     "text": [
      "Current working directory: C:\\Users\\pport\\OneDrive\\Projects\\Covid-19\n"
     ]
    }
   ],
   "source": [
    "os.chdir('C:/Users/pport/OneDrive/Projects/Covid-19/') # For Win\n",
    "\n",
    "print(\"Current working directory: {0}\".format(os.getcwd()))"
   ]
  },
  {
   "cell_type": "code",
   "execution_count": 148,
   "id": "05ff2bdc",
   "metadata": {},
   "outputs": [],
   "source": [
    "# GET NEW DATA\n",
    "\n",
    "req_deaths = requests.get('https://cloud.minsa.gob.pe/s/xJ2LQ3QyRW38Pe5/download')\n",
    "url_content_deaths = req_deaths.content\n",
    "csv_file_deaths = open('fallecidos_covid.csv', 'wb')\n",
    "csv_file_deaths.write(url_content_deaths)\n",
    "csv_file_deaths.close()"
   ]
  },
  {
   "cell_type": "code",
   "execution_count": 149,
   "id": "2ddf4ea9",
   "metadata": {},
   "outputs": [
    {
     "name": "stderr",
     "output_type": "stream",
     "text": [
      "C:\\Users\\pport\\anaconda3\\lib\\site-packages\\IPython\\core\\interactiveshell.py:3444: DtypeWarning: Columns (8) have mixed types.Specify dtype option on import or set low_memory=False.\n",
      "  exec(code_obj, self.user_global_ns, self.user_ns)\n"
     ]
    }
   ],
   "source": [
    "# WORKING THE DATA\n",
    "\n",
    "data_deaths = pd.read_csv('fallecidos_covid.csv', delimiter = ';')\n",
    "\n",
    "data_deaths['FECHA_FALLECIMIENTO'] = data_deaths['FECHA_FALLECIMIENTO'].astype(float, errors = 'raise')\n",
    "\n",
    "data_deaths['FECHA_FALLECIMIENTO'] = data_deaths['FECHA_FALLECIMIENTO'].map('{:.0f}'.format)\n",
    "\n",
    "data_deaths['FECHA_FALLECIMIENTO'] = data_deaths['FECHA_FALLECIMIENTO'] * 1\n",
    "\n",
    "data_deaths['YEAR'] = data_deaths['FECHA_FALLECIMIENTO'].str[0:4]\n",
    "\n",
    "data_deaths['MONTH'] = data_deaths['FECHA_FALLECIMIENTO'].str[4:6]\n",
    "\n",
    "data_deaths['DAY'] = data_deaths['FECHA_FALLECIMIENTO'].str[6:8]\n",
    "\n",
    "data_deaths['DATE_DEATH'] = data_deaths['DAY'] + '/' + data_deaths['MONTH'] + '/' + data_deaths['YEAR']\n",
    "\n",
    "data_deaths['DATE_DEATH'] = pd.to_datetime(data_deaths['DATE_DEATH'])\n",
    "\n",
    "data_deaths['DATE_DEATH'] = pd.to_datetime(data_deaths['DATE_DEATH']).dt.strftime('%d/%m/%y')\n",
    "\n",
    "data_deaths['DATE_DEATH'] = data_deaths['DATE_DEATH'].astype(\"datetime64\")\n",
    "\n",
    "aggregate_deaths = data_deaths.groupby(['DATE_DEATH']).size()\n",
    "\n",
    "df_aggregate_deaths = pd.DataFrame({'fallecidos': aggregate_deaths, \n",
    "                                    'fecha': pd.date_range('03/03/20', periods = len(aggregate_deaths))})\n",
    "\n",
    "df_aggregate_deaths = pd.DataFrame({'fallecidos': aggregate_deaths})\n",
    "\n",
    "df_aggregate_deaths.to_excel('C:/Users/pport/OneDrive/Projects/Covid-19/casos_fallecidos.xlsx')"
   ]
  },
  {
   "cell_type": "code",
   "execution_count": 150,
   "id": "65242df7",
   "metadata": {},
   "outputs": [],
   "source": [
    "# AMAZONAS\n",
    "\n",
    "deaths_ama = data_deaths[data_deaths['DEPARTAMENTO'] == 'AMAZONAS']\n",
    "\n",
    "agg_d_ama = deaths_ama.groupby(['DATE_DEATH']).size()\n",
    "\n",
    "df_agg_d_ama = pd.DataFrame({'fallecidos': agg_d_ama})\n",
    "\n",
    "df_agg_d_ama.to_excel('C:/Users/pport/OneDrive/Projects/Covid-19/regiones/fallecidos_amazonas.xlsx')"
   ]
  },
  {
   "cell_type": "code",
   "execution_count": 151,
   "id": "9fa46ab4",
   "metadata": {},
   "outputs": [],
   "source": [
    "# ANCASH\n",
    "\n",
    "deaths_anc = data_deaths[data_deaths['DEPARTAMENTO'] == 'ANCASH']\n",
    "\n",
    "agg_d_anc = deaths_anc.groupby(['DATE_DEATH']).size()\n",
    "\n",
    "df_agg_d_anc = pd.DataFrame({'fallecidos': agg_d_anc})\n",
    "\n",
    "df_agg_d_anc.to_excel('C:/Users/pport/OneDrive/Projects/Covid-19/regiones/fallecidos_ancash.xlsx')"
   ]
  },
  {
   "cell_type": "code",
   "execution_count": 152,
   "id": "b927b839",
   "metadata": {},
   "outputs": [],
   "source": [
    "# APURIMAC\n",
    "\n",
    "deaths_apu = data_deaths[data_deaths['DEPARTAMENTO'] == 'APURIMAC']\n",
    "\n",
    "agg_d_apu = deaths_apu.groupby(['DATE_DEATH']).size()\n",
    "\n",
    "df_agg_d_apu = pd.DataFrame({'fallecidos': agg_d_apu})\n",
    "\n",
    "df_agg_d_apu.to_excel('C:/Users/pport/OneDrive/Projects/Covid-19/regiones/fallecidos_apurimac.xlsx')"
   ]
  },
  {
   "cell_type": "code",
   "execution_count": 153,
   "id": "89171535",
   "metadata": {},
   "outputs": [],
   "source": [
    "# AREQUIPA\n",
    "\n",
    "deaths_are = data_deaths[data_deaths['DEPARTAMENTO'] == 'AREQUIPA']\n",
    "\n",
    "agg_d_are = deaths_are.groupby(['DATE_DEATH']).size()\n",
    "\n",
    "df_agg_d_are = pd.DataFrame({'fallecidos': agg_d_are})\n",
    "\n",
    "df_agg_d_are.to_excel('C:/Users/pport/OneDrive/Projects/Covid-19/regiones/fallecidos_arequipa.xlsx')"
   ]
  },
  {
   "cell_type": "code",
   "execution_count": 154,
   "id": "484161d1",
   "metadata": {},
   "outputs": [],
   "source": [
    "# AYACUCHO\n",
    "\n",
    "deaths_aya = data_deaths[data_deaths['DEPARTAMENTO'] == 'AYACUCHO']\n",
    "\n",
    "agg_d_aya = deaths_aya.groupby(['DATE_DEATH']).size()\n",
    "\n",
    "df_agg_d_aya = pd.DataFrame({'fallecidos': agg_d_aya})\n",
    "\n",
    "df_agg_d_aya.to_excel('C:/Users/pport/OneDrive/Projects/Covid-19/regiones/fallecidos_ayacucho.xlsx')"
   ]
  },
  {
   "cell_type": "code",
   "execution_count": 155,
   "id": "7286c786",
   "metadata": {},
   "outputs": [],
   "source": [
    "# CAJAMARCA\n",
    "\n",
    "deaths_caj = data_deaths[data_deaths['DEPARTAMENTO'] == 'CAJAMARCA']\n",
    "\n",
    "agg_d_caj = deaths_caj.groupby(['DATE_DEATH']).size()\n",
    "\n",
    "df_agg_d_caj = pd.DataFrame({'fallecidos': agg_d_caj})\n",
    "\n",
    "df_agg_d_caj.to_excel('C:/Users/pport/OneDrive/Projects/Covid-19/regiones/fallecidos_cajamarca.xlsx')"
   ]
  },
  {
   "cell_type": "code",
   "execution_count": 156,
   "id": "65b6d5fe",
   "metadata": {},
   "outputs": [],
   "source": [
    "# CALLAO\n",
    "\n",
    "deaths_cal = data_deaths[data_deaths['DEPARTAMENTO'] == 'CALLAO']\n",
    "\n",
    "agg_d_cal = deaths_cal.groupby(['DATE_DEATH']).size()\n",
    "\n",
    "df_agg_d_cal = pd.DataFrame({'fallecidos': agg_d_cal})\n",
    "\n",
    "df_agg_d_cal.to_excel('C:/Users/pport/OneDrive/Projects/Covid-19/regiones/fallecidos_callao.xlsx')"
   ]
  },
  {
   "cell_type": "code",
   "execution_count": 157,
   "id": "459a5f71",
   "metadata": {},
   "outputs": [],
   "source": [
    "# CUSCO\n",
    "\n",
    "deaths_cus = data_deaths[data_deaths['DEPARTAMENTO'] == 'CUSCO']\n",
    "\n",
    "agg_d_cus = deaths_cus.groupby(['DATE_DEATH']).size()\n",
    "\n",
    "df_agg_d_cus = pd.DataFrame({'fallecidos': agg_d_cus})\n",
    "\n",
    "df_agg_d_cus.to_excel('C:/Users/pport/OneDrive/Projects/Covid-19/regiones/fallecidos_cusco.xlsx')"
   ]
  },
  {
   "cell_type": "code",
   "execution_count": 158,
   "id": "47bedea9",
   "metadata": {},
   "outputs": [],
   "source": [
    "# HUANCAVELICA\n",
    "\n",
    "deaths_hlv = data_deaths[data_deaths['DEPARTAMENTO'] == 'HUANCAVELICA']\n",
    "\n",
    "agg_d_hlv = deaths_hlv.groupby(['DATE_DEATH']).size()\n",
    "\n",
    "df_agg_d_hlv = pd.DataFrame({'fallecidos': agg_d_hlv})\n",
    "\n",
    "df_agg_d_hlv.to_excel('C:/Users/pport/OneDrive/Projects/Covid-19/regiones/fallecidos_huancavelica.xlsx')"
   ]
  },
  {
   "cell_type": "code",
   "execution_count": 159,
   "id": "f44a279a",
   "metadata": {},
   "outputs": [],
   "source": [
    "# HUANUCO\n",
    "\n",
    "deaths_hua = data_deaths[data_deaths['DEPARTAMENTO'] == 'HUANUCO']\n",
    "\n",
    "agg_d_hua = deaths_hua.groupby(['DATE_DEATH']).size()\n",
    "\n",
    "df_agg_d_hua = pd.DataFrame({'fallecidos': agg_d_hua})\n",
    "\n",
    "df_agg_d_hua.to_excel('C:/Users/pport/OneDrive/Projects/Covid-19/regiones/fallecidos_huanuco.xlsx')"
   ]
  },
  {
   "cell_type": "code",
   "execution_count": 160,
   "id": "26589fc2",
   "metadata": {},
   "outputs": [],
   "source": [
    "# ICA\n",
    "\n",
    "deaths_ica = data_deaths[data_deaths['DEPARTAMENTO'] == 'ICA']\n",
    "\n",
    "agg_d_ica = deaths_ica.groupby(['DATE_DEATH']).size()\n",
    "\n",
    "df_agg_d_ica = pd.DataFrame({'fallecidos': agg_d_ica})\n",
    "\n",
    "df_agg_d_ica.to_excel('C:/Users/pport/OneDrive/Projects/Covid-19/regiones/fallecidos_ica.xlsx')"
   ]
  },
  {
   "cell_type": "code",
   "execution_count": 161,
   "id": "e61abc0b",
   "metadata": {},
   "outputs": [],
   "source": [
    "# JUNIN\n",
    "\n",
    "deaths_jun = data_deaths[data_deaths['DEPARTAMENTO'] == 'JUNIN']\n",
    "\n",
    "agg_d_jun = deaths_jun.groupby(['DATE_DEATH']).size()\n",
    "\n",
    "df_agg_d_jun = pd.DataFrame({'fallecidos': agg_d_jun})\n",
    "\n",
    "df_agg_d_jun.to_excel('C:/Users/pport/OneDrive/Projects/Covid-19/regiones/fallecidos_junin.xlsx')"
   ]
  },
  {
   "cell_type": "code",
   "execution_count": 162,
   "id": "7aeaef17",
   "metadata": {},
   "outputs": [],
   "source": [
    "# LA LIBERTAD\n",
    "\n",
    "deaths_lal = data_deaths[data_deaths['DEPARTAMENTO'] == 'LA LIBERTAD']\n",
    "\n",
    "agg_d_lal = deaths_lal.groupby(['DATE_DEATH']).size()\n",
    "\n",
    "df_agg_d_lal = pd.DataFrame({'fallecidos': agg_d_lal})\n",
    "\n",
    "df_agg_d_lal.to_excel('C:/Users/pport/OneDrive/Projects/Covid-19/regiones/fallecidos_lalibertad.xlsx')"
   ]
  },
  {
   "cell_type": "code",
   "execution_count": 163,
   "id": "1c4541d1",
   "metadata": {},
   "outputs": [],
   "source": [
    "# LAMBAYEQUE\n",
    "\n",
    "deaths_lam = data_deaths[data_deaths['DEPARTAMENTO'] == 'LAMBAYEQUE']\n",
    "\n",
    "agg_d_lam = deaths_lam.groupby(['DATE_DEATH']).size()\n",
    "\n",
    "df_agg_d_lam = pd.DataFrame({'fallecidos': agg_d_lam})\n",
    "\n",
    "df_agg_d_lam.to_excel('C:/Users/pport/OneDrive/Projects/Covid-19/regiones/fallecidos_lambayeque.xlsx')"
   ]
  },
  {
   "cell_type": "code",
   "execution_count": 164,
   "id": "653f39b9",
   "metadata": {},
   "outputs": [],
   "source": [
    "# LIMA\n",
    "\n",
    "deaths_lim = data_deaths[data_deaths['DEPARTAMENTO'] == 'LIMA']\n",
    "\n",
    "agg_d_lim = deaths_lim.groupby(['DATE_DEATH']).size()\n",
    "\n",
    "df_agg_d_lim = pd.DataFrame({'fallecidos': agg_d_lim})\n",
    "\n",
    "df_agg_d_lim.to_excel('C:/Users/pport/OneDrive/Projects/Covid-19/regiones/fallecidos_lima.xlsx')"
   ]
  },
  {
   "cell_type": "code",
   "execution_count": 165,
   "id": "f992b442",
   "metadata": {},
   "outputs": [],
   "source": [
    "# LORETO\n",
    "\n",
    "deaths_lor = data_deaths[data_deaths['DEPARTAMENTO'] == 'LORETO']\n",
    "\n",
    "agg_d_lor = deaths_lor.groupby(['DATE_DEATH']).size()\n",
    "\n",
    "df_agg_d_lor = pd.DataFrame({'fallecidos': agg_d_lor})\n",
    "\n",
    "df_agg_d_lor.to_excel('C:/Users/pport/OneDrive/Projects/Covid-19/regiones/fallecidos_loreto.xlsx')"
   ]
  },
  {
   "cell_type": "code",
   "execution_count": 166,
   "id": "d73fae64",
   "metadata": {},
   "outputs": [],
   "source": [
    "# MADRE DE DIOS\n",
    "\n",
    "deaths_mad = data_deaths[data_deaths['DEPARTAMENTO'] == 'MADRE DE DIOS']\n",
    "\n",
    "agg_d_mad = deaths_mad.groupby(['DATE_DEATH']).size()\n",
    "\n",
    "df_agg_d_mad = pd.DataFrame({'fallecidos': agg_d_mad})\n",
    "\n",
    "df_agg_d_mad.to_excel('C:/Users/pport/OneDrive/Projects/Covid-19/regiones/fallecidos_madrededios.xlsx')"
   ]
  },
  {
   "cell_type": "code",
   "execution_count": 167,
   "id": "47310ed3",
   "metadata": {},
   "outputs": [],
   "source": [
    "# MOQUEGUA\n",
    "\n",
    "deaths_moq = data_deaths[data_deaths['DEPARTAMENTO'] == 'MOQUEGUA']\n",
    "\n",
    "agg_d_moq = deaths_moq.groupby(['DATE_DEATH']).size()\n",
    "\n",
    "df_agg_d_moq = pd.DataFrame({'fallecidos': agg_d_moq})\n",
    "\n",
    "df_agg_d_moq.to_excel('C:/Users/pport/OneDrive/Projects/Covid-19/regiones/fallecidos_moquegua.xlsx')"
   ]
  },
  {
   "cell_type": "code",
   "execution_count": 168,
   "id": "549fdbe0",
   "metadata": {},
   "outputs": [],
   "source": [
    "# PASCO\n",
    "\n",
    "deaths_pas = data_deaths[data_deaths['DEPARTAMENTO'] == 'PASCO']\n",
    "\n",
    "agg_d_pas = deaths_pas.groupby(['DATE_DEATH']).size()\n",
    "\n",
    "df_agg_d_pas = pd.DataFrame({'fallecidos': agg_d_pas})\n",
    "\n",
    "df_agg_d_pas.to_excel('C:/Users/pport/OneDrive/Projects/Covid-19/regiones/fallecidos_pasco.xlsx')"
   ]
  },
  {
   "cell_type": "code",
   "execution_count": 169,
   "id": "053b8778",
   "metadata": {},
   "outputs": [],
   "source": [
    "# PIURA\n",
    "\n",
    "deaths_piu = data_deaths[data_deaths['DEPARTAMENTO'] == 'PIURA']\n",
    "\n",
    "agg_d_piu = deaths_piu.groupby(['DATE_DEATH']).size()\n",
    "\n",
    "df_agg_d_piu = pd.DataFrame({'fallecidos': agg_d_piu})\n",
    "\n",
    "df_agg_d_piu.to_excel('C:/Users/pport/OneDrive/Projects/Covid-19/regiones/fallecidos_piura.xlsx')"
   ]
  },
  {
   "cell_type": "code",
   "execution_count": 170,
   "id": "21386804",
   "metadata": {},
   "outputs": [],
   "source": [
    "# PUNO\n",
    "\n",
    "deaths_pun = data_deaths[data_deaths['DEPARTAMENTO'] == 'PUNO']\n",
    "\n",
    "agg_d_pun = deaths_pun.groupby(['DATE_DEATH']).size()\n",
    "\n",
    "df_agg_d_pun = pd.DataFrame({'fallecidos': agg_d_pun})\n",
    "\n",
    "df_agg_d_pun.to_excel('C:/Users/pport/OneDrive/Projects/Covid-19/regiones/fallecidos_puno.xlsx')"
   ]
  },
  {
   "cell_type": "code",
   "execution_count": 171,
   "id": "b33cf94f",
   "metadata": {},
   "outputs": [],
   "source": [
    "# SAN MARTÍN\n",
    "\n",
    "deaths_san = data_deaths[data_deaths['DEPARTAMENTO'] == 'SAN MARTIN']\n",
    "\n",
    "agg_d_san = deaths_san.groupby(['DATE_DEATH']).size()\n",
    "\n",
    "df_agg_d_san = pd.DataFrame({'fallecidos': agg_d_san})\n",
    "\n",
    "df_agg_d_san.to_excel('C:/Users/pport/OneDrive/Projects/Covid-19/regiones/fallecidos_sanmartin.xlsx')"
   ]
  },
  {
   "cell_type": "code",
   "execution_count": 172,
   "id": "fab1012d",
   "metadata": {},
   "outputs": [],
   "source": [
    "# TACNA\n",
    "\n",
    "deaths_tac = data_deaths[data_deaths['DEPARTAMENTO'] == 'TACNA']\n",
    "\n",
    "agg_d_tac = deaths_tac.groupby(['DATE_DEATH']).size()\n",
    "\n",
    "df_agg_d_tac = pd.DataFrame({'fallecidos': agg_d_tac})\n",
    "\n",
    "df_agg_d_tac.to_excel('C:/Users/pport/OneDrive/Projects/Covid-19/regiones/fallecidos_tacna.xlsx')"
   ]
  },
  {
   "cell_type": "code",
   "execution_count": 173,
   "id": "bed8291c",
   "metadata": {},
   "outputs": [],
   "source": [
    "# TUMBES\n",
    "\n",
    "deaths_tum = data_deaths[data_deaths['DEPARTAMENTO'] == 'TUMBES']\n",
    "\n",
    "agg_d_tum = deaths_tum.groupby(['DATE_DEATH']).size()\n",
    "\n",
    "df_agg_d_tum = pd.DataFrame({'fallecidos': agg_d_tum})\n",
    "\n",
    "df_agg_d_tum.to_excel('C:/Users/pport/OneDrive/Projects/Covid-19/regiones/fallecidos_tumbes.xlsx')"
   ]
  },
  {
   "cell_type": "code",
   "execution_count": 174,
   "id": "ba0466fe",
   "metadata": {},
   "outputs": [],
   "source": [
    "# UCAYALI\n",
    "\n",
    "deaths_uca = data_deaths[data_deaths['DEPARTAMENTO'] == 'UCAYALI']\n",
    "\n",
    "agg_d_uca = deaths_uca.groupby(['DATE_DEATH']).size()\n",
    "\n",
    "df_agg_d_uca = pd.DataFrame({'fallecidos': agg_d_uca})\n",
    "\n",
    "df_agg_d_uca.to_excel('C:/Users/pport/OneDrive/Projects/Covid-19/regiones/fallecidos_ucayali.xlsx')"
   ]
  }
 ],
 "metadata": {
  "kernelspec": {
   "display_name": "Python 3 (ipykernel)",
   "language": "python",
   "name": "python3"
  },
  "language_info": {
   "codemirror_mode": {
    "name": "ipython",
    "version": 3
   },
   "file_extension": ".py",
   "mimetype": "text/x-python",
   "name": "python",
   "nbconvert_exporter": "python",
   "pygments_lexer": "ipython3",
   "version": "3.9.7"
  }
 },
 "nbformat": 4,
 "nbformat_minor": 5
}
